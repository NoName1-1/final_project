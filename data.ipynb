{
 "cells": [
  {
   "cell_type": "code",
   "execution_count": 198,
   "id": "9bc4952e-03b5-49ea-b9d7-635034b496e6",
   "metadata": {},
   "outputs": [],
   "source": [
    "#Импорт библиотек \n",
    "import pandas as pd\n",
    "import matplotlib.pyplot as plt\n",
    "import seaborn as sns\n",
    "from datetime import timedelta\n"
   ]
  },
  {
   "cell_type": "markdown",
   "id": "087bbcb3-d152-4109-b57e-860f866c52b1",
   "metadata": {},
   "source": [
    "1) Загрузка файлов csv "
   ]
  },
  {
   "cell_type": "code",
   "execution_count": 199,
   "id": "2efbcdc8-3182-4ca6-825f-aeb424142f77",
   "metadata": {},
   "outputs": [],
   "source": [
    "df_hits = pd.read_csv('ga_hits.csv', low_memory=False)"
   ]
  },
  {
   "cell_type": "code",
   "execution_count": 200,
   "id": "35e966f0-bffc-48a9-83a8-9eff6ac7f26f",
   "metadata": {},
   "outputs": [],
   "source": [
    "df_sessions = pd.read_csv('ga_sessions.csv', low_memory=False)"
   ]
  },
  {
   "cell_type": "markdown",
   "id": "29797665-07b7-468d-bdca-d28b0e7a11f4",
   "metadata": {},
   "source": [
    "Поверхностный анализ таблиц"
   ]
  },
  {
   "cell_type": "code",
   "execution_count": 201,
   "id": "bbbeb0e1-fc64-47f9-abfd-acc1bed1879a",
   "metadata": {},
   "outputs": [
    {
     "data": {
      "text/html": [
       "<div>\n",
       "<style scoped>\n",
       "    .dataframe tbody tr th:only-of-type {\n",
       "        vertical-align: middle;\n",
       "    }\n",
       "\n",
       "    .dataframe tbody tr th {\n",
       "        vertical-align: top;\n",
       "    }\n",
       "\n",
       "    .dataframe thead th {\n",
       "        text-align: right;\n",
       "    }\n",
       "</style>\n",
       "<table border=\"1\" class=\"dataframe\">\n",
       "  <thead>\n",
       "    <tr style=\"text-align: right;\">\n",
       "      <th></th>\n",
       "      <th>session_id</th>\n",
       "      <th>hit_date</th>\n",
       "      <th>hit_time</th>\n",
       "      <th>hit_number</th>\n",
       "      <th>hit_type</th>\n",
       "      <th>hit_referer</th>\n",
       "      <th>hit_page_path</th>\n",
       "      <th>event_category</th>\n",
       "      <th>event_action</th>\n",
       "      <th>event_label</th>\n",
       "      <th>event_value</th>\n",
       "    </tr>\n",
       "  </thead>\n",
       "  <tbody>\n",
       "    <tr>\n",
       "      <th>0</th>\n",
       "      <td>5639623078712724064.1640254056.1640254056</td>\n",
       "      <td>2021-12-23</td>\n",
       "      <td>597864.0</td>\n",
       "      <td>30</td>\n",
       "      <td>event</td>\n",
       "      <td>NaN</td>\n",
       "      <td>sberauto.com/cars?utm_source_initial=google&amp;ut...</td>\n",
       "      <td>quiz</td>\n",
       "      <td>quiz_show</td>\n",
       "      <td>NaN</td>\n",
       "      <td>NaN</td>\n",
       "    </tr>\n",
       "    <tr>\n",
       "      <th>1</th>\n",
       "      <td>7750352294969115059.1640271109.1640271109</td>\n",
       "      <td>2021-12-23</td>\n",
       "      <td>597331.0</td>\n",
       "      <td>41</td>\n",
       "      <td>event</td>\n",
       "      <td>NaN</td>\n",
       "      <td>sberauto.com/cars/fiat?city=1&amp;city=18&amp;rental_c...</td>\n",
       "      <td>quiz</td>\n",
       "      <td>quiz_show</td>\n",
       "      <td>NaN</td>\n",
       "      <td>NaN</td>\n",
       "    </tr>\n",
       "    <tr>\n",
       "      <th>2</th>\n",
       "      <td>885342191847998240.1640235807.1640235807</td>\n",
       "      <td>2021-12-23</td>\n",
       "      <td>796252.0</td>\n",
       "      <td>49</td>\n",
       "      <td>event</td>\n",
       "      <td>NaN</td>\n",
       "      <td>sberauto.com/cars/all/volkswagen/polo/e994838f...</td>\n",
       "      <td>quiz</td>\n",
       "      <td>quiz_show</td>\n",
       "      <td>NaN</td>\n",
       "      <td>NaN</td>\n",
       "    </tr>\n",
       "    <tr>\n",
       "      <th>3</th>\n",
       "      <td>142526202120934167.1640211014.1640211014</td>\n",
       "      <td>2021-12-23</td>\n",
       "      <td>934292.0</td>\n",
       "      <td>46</td>\n",
       "      <td>event</td>\n",
       "      <td>NaN</td>\n",
       "      <td>sberauto.com/cars?utm_source_initial=yandex&amp;ut...</td>\n",
       "      <td>quiz</td>\n",
       "      <td>quiz_show</td>\n",
       "      <td>NaN</td>\n",
       "      <td>NaN</td>\n",
       "    </tr>\n",
       "    <tr>\n",
       "      <th>4</th>\n",
       "      <td>3450086108837475701.1640265078.1640265078</td>\n",
       "      <td>2021-12-23</td>\n",
       "      <td>768741.0</td>\n",
       "      <td>79</td>\n",
       "      <td>event</td>\n",
       "      <td>NaN</td>\n",
       "      <td>sberauto.com/cars/all/mercedes-benz/cla-klasse...</td>\n",
       "      <td>quiz</td>\n",
       "      <td>quiz_show</td>\n",
       "      <td>NaN</td>\n",
       "      <td>NaN</td>\n",
       "    </tr>\n",
       "  </tbody>\n",
       "</table>\n",
       "</div>"
      ],
      "text/plain": [
       "                                  session_id    hit_date  hit_time  \\\n",
       "0  5639623078712724064.1640254056.1640254056  2021-12-23  597864.0   \n",
       "1  7750352294969115059.1640271109.1640271109  2021-12-23  597331.0   \n",
       "2   885342191847998240.1640235807.1640235807  2021-12-23  796252.0   \n",
       "3   142526202120934167.1640211014.1640211014  2021-12-23  934292.0   \n",
       "4  3450086108837475701.1640265078.1640265078  2021-12-23  768741.0   \n",
       "\n",
       "   hit_number hit_type hit_referer  \\\n",
       "0          30    event         NaN   \n",
       "1          41    event         NaN   \n",
       "2          49    event         NaN   \n",
       "3          46    event         NaN   \n",
       "4          79    event         NaN   \n",
       "\n",
       "                                       hit_page_path event_category  \\\n",
       "0  sberauto.com/cars?utm_source_initial=google&ut...           quiz   \n",
       "1  sberauto.com/cars/fiat?city=1&city=18&rental_c...           quiz   \n",
       "2  sberauto.com/cars/all/volkswagen/polo/e994838f...           quiz   \n",
       "3  sberauto.com/cars?utm_source_initial=yandex&ut...           quiz   \n",
       "4  sberauto.com/cars/all/mercedes-benz/cla-klasse...           quiz   \n",
       "\n",
       "  event_action event_label  event_value  \n",
       "0    quiz_show         NaN          NaN  \n",
       "1    quiz_show         NaN          NaN  \n",
       "2    quiz_show         NaN          NaN  \n",
       "3    quiz_show         NaN          NaN  \n",
       "4    quiz_show         NaN          NaN  "
      ]
     },
     "execution_count": 201,
     "metadata": {},
     "output_type": "execute_result"
    }
   ],
   "source": [
    "df_hits.head()"
   ]
  },
  {
   "cell_type": "code",
   "execution_count": 202,
   "id": "5531c49e-17b9-47cc-9877-6a57686a6e6c",
   "metadata": {},
   "outputs": [
    {
     "data": {
      "text/html": [
       "<div>\n",
       "<style scoped>\n",
       "    .dataframe tbody tr th:only-of-type {\n",
       "        vertical-align: middle;\n",
       "    }\n",
       "\n",
       "    .dataframe tbody tr th {\n",
       "        vertical-align: top;\n",
       "    }\n",
       "\n",
       "    .dataframe thead th {\n",
       "        text-align: right;\n",
       "    }\n",
       "</style>\n",
       "<table border=\"1\" class=\"dataframe\">\n",
       "  <thead>\n",
       "    <tr style=\"text-align: right;\">\n",
       "      <th></th>\n",
       "      <th>session_id</th>\n",
       "      <th>client_id</th>\n",
       "      <th>visit_date</th>\n",
       "      <th>visit_time</th>\n",
       "      <th>visit_number</th>\n",
       "      <th>utm_source</th>\n",
       "      <th>utm_medium</th>\n",
       "      <th>utm_campaign</th>\n",
       "      <th>utm_adcontent</th>\n",
       "      <th>utm_keyword</th>\n",
       "      <th>device_category</th>\n",
       "      <th>device_os</th>\n",
       "      <th>device_brand</th>\n",
       "      <th>device_model</th>\n",
       "      <th>device_screen_resolution</th>\n",
       "      <th>device_browser</th>\n",
       "      <th>geo_country</th>\n",
       "      <th>geo_city</th>\n",
       "    </tr>\n",
       "  </thead>\n",
       "  <tbody>\n",
       "    <tr>\n",
       "      <th>0</th>\n",
       "      <td>9055434745589932991.1637753792.1637753792</td>\n",
       "      <td>2108382700.1637753791</td>\n",
       "      <td>2021-11-24</td>\n",
       "      <td>14:36:32</td>\n",
       "      <td>1</td>\n",
       "      <td>ZpYIoDJMcFzVoPFsHGJL</td>\n",
       "      <td>banner</td>\n",
       "      <td>LEoPHuyFvzoNfnzGgfcd</td>\n",
       "      <td>vCIpmpaGBnIQhyYNkXqp</td>\n",
       "      <td>puhZPIYqKXeFPaUviSjo</td>\n",
       "      <td>mobile</td>\n",
       "      <td>Android</td>\n",
       "      <td>Huawei</td>\n",
       "      <td>NaN</td>\n",
       "      <td>360x720</td>\n",
       "      <td>Chrome</td>\n",
       "      <td>Russia</td>\n",
       "      <td>Zlatoust</td>\n",
       "    </tr>\n",
       "    <tr>\n",
       "      <th>1</th>\n",
       "      <td>905544597018549464.1636867290.1636867290</td>\n",
       "      <td>210838531.1636867288</td>\n",
       "      <td>2021-11-14</td>\n",
       "      <td>08:21:30</td>\n",
       "      <td>1</td>\n",
       "      <td>MvfHsxITijuriZxsqZqt</td>\n",
       "      <td>cpm</td>\n",
       "      <td>FTjNLDyTrXaWYgZymFkV</td>\n",
       "      <td>xhoenQgDQsgfEPYNPwKO</td>\n",
       "      <td>IGUCNvHlhfHpROGclCit</td>\n",
       "      <td>mobile</td>\n",
       "      <td>Android</td>\n",
       "      <td>Samsung</td>\n",
       "      <td>NaN</td>\n",
       "      <td>385x854</td>\n",
       "      <td>Samsung Internet</td>\n",
       "      <td>Russia</td>\n",
       "      <td>Moscow</td>\n",
       "    </tr>\n",
       "    <tr>\n",
       "      <th>2</th>\n",
       "      <td>9055446045651783499.1640648526.1640648526</td>\n",
       "      <td>2108385331.1640648523</td>\n",
       "      <td>2021-12-28</td>\n",
       "      <td>02:42:06</td>\n",
       "      <td>1</td>\n",
       "      <td>ZpYIoDJMcFzVoPFsHGJL</td>\n",
       "      <td>banner</td>\n",
       "      <td>LEoPHuyFvzoNfnzGgfcd</td>\n",
       "      <td>vCIpmpaGBnIQhyYNkXqp</td>\n",
       "      <td>puhZPIYqKXeFPaUviSjo</td>\n",
       "      <td>mobile</td>\n",
       "      <td>Android</td>\n",
       "      <td>Huawei</td>\n",
       "      <td>NaN</td>\n",
       "      <td>360x720</td>\n",
       "      <td>Chrome</td>\n",
       "      <td>Russia</td>\n",
       "      <td>Krasnoyarsk</td>\n",
       "    </tr>\n",
       "    <tr>\n",
       "      <th>3</th>\n",
       "      <td>9055447046360770272.1622255328.1622255328</td>\n",
       "      <td>2108385564.1622255328</td>\n",
       "      <td>2021-05-29</td>\n",
       "      <td>05:00:00</td>\n",
       "      <td>1</td>\n",
       "      <td>kjsLglQLzykiRbcDiGcD</td>\n",
       "      <td>cpc</td>\n",
       "      <td>NaN</td>\n",
       "      <td>NOBKLgtuvqYWkXQHeYWM</td>\n",
       "      <td>NaN</td>\n",
       "      <td>mobile</td>\n",
       "      <td>NaN</td>\n",
       "      <td>Xiaomi</td>\n",
       "      <td>NaN</td>\n",
       "      <td>393x786</td>\n",
       "      <td>Chrome</td>\n",
       "      <td>Russia</td>\n",
       "      <td>Moscow</td>\n",
       "    </tr>\n",
       "    <tr>\n",
       "      <th>4</th>\n",
       "      <td>9055447046360770272.1622255345.1622255345</td>\n",
       "      <td>2108385564.1622255328</td>\n",
       "      <td>2021-05-29</td>\n",
       "      <td>05:00:00</td>\n",
       "      <td>2</td>\n",
       "      <td>kjsLglQLzykiRbcDiGcD</td>\n",
       "      <td>cpc</td>\n",
       "      <td>NaN</td>\n",
       "      <td>NaN</td>\n",
       "      <td>NaN</td>\n",
       "      <td>mobile</td>\n",
       "      <td>NaN</td>\n",
       "      <td>Xiaomi</td>\n",
       "      <td>NaN</td>\n",
       "      <td>393x786</td>\n",
       "      <td>Chrome</td>\n",
       "      <td>Russia</td>\n",
       "      <td>Moscow</td>\n",
       "    </tr>\n",
       "  </tbody>\n",
       "</table>\n",
       "</div>"
      ],
      "text/plain": [
       "                                  session_id              client_id  \\\n",
       "0  9055434745589932991.1637753792.1637753792  2108382700.1637753791   \n",
       "1   905544597018549464.1636867290.1636867290   210838531.1636867288   \n",
       "2  9055446045651783499.1640648526.1640648526  2108385331.1640648523   \n",
       "3  9055447046360770272.1622255328.1622255328  2108385564.1622255328   \n",
       "4  9055447046360770272.1622255345.1622255345  2108385564.1622255328   \n",
       "\n",
       "   visit_date visit_time  visit_number            utm_source utm_medium  \\\n",
       "0  2021-11-24   14:36:32             1  ZpYIoDJMcFzVoPFsHGJL     banner   \n",
       "1  2021-11-14   08:21:30             1  MvfHsxITijuriZxsqZqt        cpm   \n",
       "2  2021-12-28   02:42:06             1  ZpYIoDJMcFzVoPFsHGJL     banner   \n",
       "3  2021-05-29   05:00:00             1  kjsLglQLzykiRbcDiGcD        cpc   \n",
       "4  2021-05-29   05:00:00             2  kjsLglQLzykiRbcDiGcD        cpc   \n",
       "\n",
       "           utm_campaign         utm_adcontent           utm_keyword  \\\n",
       "0  LEoPHuyFvzoNfnzGgfcd  vCIpmpaGBnIQhyYNkXqp  puhZPIYqKXeFPaUviSjo   \n",
       "1  FTjNLDyTrXaWYgZymFkV  xhoenQgDQsgfEPYNPwKO  IGUCNvHlhfHpROGclCit   \n",
       "2  LEoPHuyFvzoNfnzGgfcd  vCIpmpaGBnIQhyYNkXqp  puhZPIYqKXeFPaUviSjo   \n",
       "3                   NaN  NOBKLgtuvqYWkXQHeYWM                   NaN   \n",
       "4                   NaN                   NaN                   NaN   \n",
       "\n",
       "  device_category device_os device_brand device_model  \\\n",
       "0          mobile   Android       Huawei          NaN   \n",
       "1          mobile   Android      Samsung          NaN   \n",
       "2          mobile   Android       Huawei          NaN   \n",
       "3          mobile       NaN       Xiaomi          NaN   \n",
       "4          mobile       NaN       Xiaomi          NaN   \n",
       "\n",
       "  device_screen_resolution    device_browser geo_country     geo_city  \n",
       "0                  360x720            Chrome      Russia     Zlatoust  \n",
       "1                  385x854  Samsung Internet      Russia       Moscow  \n",
       "2                  360x720            Chrome      Russia  Krasnoyarsk  \n",
       "3                  393x786            Chrome      Russia       Moscow  \n",
       "4                  393x786            Chrome      Russia       Moscow  "
      ]
     },
     "execution_count": 202,
     "metadata": {},
     "output_type": "execute_result"
    }
   ],
   "source": [
    "df_sessions.head()"
   ]
  },
  {
   "cell_type": "code",
   "execution_count": 203,
   "id": "42e01be6-4b27-48b1-946d-c76c99de35db",
   "metadata": {},
   "outputs": [
    {
     "name": "stdout",
     "output_type": "stream",
     "text": [
      "<class 'pandas.core.frame.DataFrame'>\n",
      "RangeIndex: 15726470 entries, 0 to 15726469\n",
      "Data columns (total 11 columns):\n",
      " #   Column          Non-Null Count     Dtype  \n",
      "---  ------          --------------     -----  \n",
      " 0   session_id      15726470 non-null  object \n",
      " 1   hit_date        15726470 non-null  object \n",
      " 2   hit_time        6566148 non-null   float64\n",
      " 3   hit_number      15726470 non-null  int64  \n",
      " 4   hit_type        15726470 non-null  object \n",
      " 5   hit_referer     9451666 non-null   object \n",
      " 6   hit_page_path   15726470 non-null  object \n",
      " 7   event_category  15726470 non-null  object \n",
      " 8   event_action    15726470 non-null  object \n",
      " 9   event_label     11966286 non-null  object \n",
      " 10  event_value     0 non-null         float64\n",
      "dtypes: float64(2), int64(1), object(8)\n",
      "memory usage: 1.3+ GB\n"
     ]
    }
   ],
   "source": [
    "df_hits.info(show_counts=True)"
   ]
  },
  {
   "cell_type": "code",
   "execution_count": 204,
   "id": "df74019f-89a9-4b15-9e27-9a53286b92ca",
   "metadata": {},
   "outputs": [
    {
     "name": "stdout",
     "output_type": "stream",
     "text": [
      "<class 'pandas.core.frame.DataFrame'>\n",
      "RangeIndex: 1860042 entries, 0 to 1860041\n",
      "Data columns (total 18 columns):\n",
      " #   Column                    Non-Null Count    Dtype \n",
      "---  ------                    --------------    ----- \n",
      " 0   session_id                1860042 non-null  object\n",
      " 1   client_id                 1860042 non-null  object\n",
      " 2   visit_date                1860042 non-null  object\n",
      " 3   visit_time                1860042 non-null  object\n",
      " 4   visit_number              1860042 non-null  int64 \n",
      " 5   utm_source                1859945 non-null  object\n",
      " 6   utm_medium                1860042 non-null  object\n",
      " 7   utm_campaign              1640439 non-null  object\n",
      " 8   utm_adcontent             1524427 non-null  object\n",
      " 9   utm_keyword               777981 non-null   object\n",
      " 10  device_category           1860042 non-null  object\n",
      " 11  device_os                 789904 non-null   object\n",
      " 12  device_brand              1492864 non-null  object\n",
      " 13  device_model              16338 non-null    object\n",
      " 14  device_screen_resolution  1860042 non-null  object\n",
      " 15  device_browser            1860042 non-null  object\n",
      " 16  geo_country               1860042 non-null  object\n",
      " 17  geo_city                  1860042 non-null  object\n",
      "dtypes: int64(1), object(17)\n",
      "memory usage: 255.4+ MB\n"
     ]
    }
   ],
   "source": [
    "df_sessions.info(show_counts=True)"
   ]
  },
  {
   "cell_type": "markdown",
   "id": "4d57edb2-1755-43fc-882a-4a5faba5899c",
   "metadata": {},
   "source": [
    "2) Создаю копию таблицы df_hits для обработки данных"
   ]
  },
  {
   "cell_type": "code",
   "execution_count": 205,
   "id": "47c362b0-08b1-409c-882f-a99bb7f9d7d3",
   "metadata": {},
   "outputs": [],
   "source": [
    "df_hits_copy = pd.DataFrame.copy(df_hits)"
   ]
  },
  {
   "cell_type": "code",
   "execution_count": 206,
   "id": "d48c5133-4cf4-45da-8ac6-6ca3999694e6",
   "metadata": {},
   "outputs": [],
   "source": [
    "df_hits_copy = df_hits_copy.drop(columns=[\"event_value\"]) #Удалил пустую колонку, пока она не нужна "
   ]
  },
  {
   "cell_type": "code",
   "execution_count": 207,
   "id": "a8ac41b9-60b5-430c-bfd3-c49e33997d27",
   "metadata": {},
   "outputs": [],
   "source": [
    "df_hits_copy = df_hits_copy.drop_duplicates(subset='session_id')"
   ]
  },
  {
   "cell_type": "code",
   "execution_count": 208,
   "id": "f56477fc-1b51-425b-a179-056abcb32569",
   "metadata": {},
   "outputs": [
    {
     "name": "stdout",
     "output_type": "stream",
     "text": [
      "<class 'pandas.core.frame.DataFrame'>\n",
      "Index: 1734610 entries, 0 to 15726432\n",
      "Data columns (total 10 columns):\n",
      " #   Column          Non-Null Count    Dtype  \n",
      "---  ------          --------------    -----  \n",
      " 0   session_id      1734610 non-null  object \n",
      " 1   hit_date        1734610 non-null  object \n",
      " 2   hit_time        722610 non-null   float64\n",
      " 3   hit_number      1734610 non-null  int64  \n",
      " 4   hit_type        1734610 non-null  object \n",
      " 5   hit_referer     1058333 non-null  object \n",
      " 6   hit_page_path   1734610 non-null  object \n",
      " 7   event_category  1734610 non-null  object \n",
      " 8   event_action    1734610 non-null  object \n",
      " 9   event_label     1196147 non-null  object \n",
      "dtypes: float64(1), int64(1), object(8)\n",
      "memory usage: 145.6+ MB\n"
     ]
    }
   ],
   "source": [
    "df_hits_copy.info(show_counts = True)#Проверяю таблицу на пустые данные"
   ]
  },
  {
   "cell_type": "code",
   "execution_count": 209,
   "id": "80c5b7ba-d826-43fe-b3e3-ab27c74a49c3",
   "metadata": {},
   "outputs": [],
   "source": [
    "df_hits_copy = df_hits_copy.drop_duplicates()"
   ]
  },
  {
   "cell_type": "code",
   "execution_count": 210,
   "id": "d43090eb-f855-4c75-a34c-2c032faa33ab",
   "metadata": {},
   "outputs": [],
   "source": [
    "df_hits_copy = df_hits_copy[df_hits_copy['session_id'].isin(df_sessions['session_id'])]"
   ]
  },
  {
   "cell_type": "code",
   "execution_count": 211,
   "id": "b4dcec22-ce5f-47bc-a8d9-658824759d76",
   "metadata": {
    "scrolled": true
   },
   "outputs": [],
   "source": [
    "df_hits_copy['hit_time'] = df_hits_copy['hit_time'].fillna(df_hits_copy['hit_time'].mean())"
   ]
  },
  {
   "cell_type": "code",
   "execution_count": 212,
   "id": "35fe0c50-0ddc-4254-903b-360bffc8d2b1",
   "metadata": {},
   "outputs": [
    {
     "name": "stdout",
     "output_type": "stream",
     "text": [
      "<class 'pandas.core.frame.DataFrame'>\n",
      "Index: 1732266 entries, 0 to 15726432\n",
      "Data columns (total 10 columns):\n",
      " #   Column          Non-Null Count    Dtype  \n",
      "---  ------          --------------    -----  \n",
      " 0   session_id      1732266 non-null  object \n",
      " 1   hit_date        1732266 non-null  object \n",
      " 2   hit_time        1732266 non-null  float64\n",
      " 3   hit_number      1732266 non-null  int64  \n",
      " 4   hit_type        1732266 non-null  object \n",
      " 5   hit_referer     1058085 non-null  object \n",
      " 6   hit_page_path   1732266 non-null  object \n",
      " 7   event_category  1732266 non-null  object \n",
      " 8   event_action    1732266 non-null  object \n",
      " 9   event_label     1195701 non-null  object \n",
      "dtypes: float64(1), int64(1), object(8)\n",
      "memory usage: 145.4+ MB\n"
     ]
    }
   ],
   "source": [
    "df_hits_copy.info(show_counts=True)"
   ]
  },
  {
   "cell_type": "code",
   "execution_count": 213,
   "id": "61e15087-6235-412f-88b5-764f1dfe53c0",
   "metadata": {},
   "outputs": [],
   "source": [
    "df_hits_copy['hit_referer'] = df_hits_copy['hit_referer'].fillna(\"unknown\") #Заполняю неизвестные источники как unknown"
   ]
  },
  {
   "cell_type": "code",
   "execution_count": 214,
   "id": "98d182d4-774d-468f-a7b8-b4f7a0ea1020",
   "metadata": {},
   "outputs": [
    {
     "name": "stdout",
     "output_type": "stream",
     "text": [
      "<class 'pandas.core.frame.DataFrame'>\n",
      "Index: 1732266 entries, 0 to 15726432\n",
      "Data columns (total 10 columns):\n",
      " #   Column          Non-Null Count    Dtype  \n",
      "---  ------          --------------    -----  \n",
      " 0   session_id      1732266 non-null  object \n",
      " 1   hit_date        1732266 non-null  object \n",
      " 2   hit_time        1732266 non-null  float64\n",
      " 3   hit_number      1732266 non-null  int64  \n",
      " 4   hit_type        1732266 non-null  object \n",
      " 5   hit_referer     1732266 non-null  object \n",
      " 6   hit_page_path   1732266 non-null  object \n",
      " 7   event_category  1732266 non-null  object \n",
      " 8   event_action    1732266 non-null  object \n",
      " 9   event_label     1195701 non-null  object \n",
      "dtypes: float64(1), int64(1), object(8)\n",
      "memory usage: 145.4+ MB\n"
     ]
    }
   ],
   "source": [
    "df_hits_copy.info(show_counts=True)"
   ]
  },
  {
   "cell_type": "code",
   "execution_count": 215,
   "id": "992fcaff-3943-4369-9b54-121cb5552a84",
   "metadata": {},
   "outputs": [
    {
     "data": {
      "text/plain": [
       "array([nan, 'GYKKaSmRGxilGoDZiuEJ', 'nsSPWOGBZhTHYKHvcPDM', ...,\n",
       "       'ESbBwMHvjmUDFTFIYIjc', 'HLXOACzTDJnoQBtUBVOy',\n",
       "       'iagIkFowQNFdBJvrgtkj'], dtype=object)"
      ]
     },
     "execution_count": 215,
     "metadata": {},
     "output_type": "execute_result"
    }
   ],
   "source": [
    "df_hits_copy[\"event_label\"].unique()"
   ]
  },
  {
   "cell_type": "code",
   "execution_count": 216,
   "id": "8616e0c6-736c-43cf-9a45-f7b6ee1da37f",
   "metadata": {},
   "outputs": [],
   "source": [
    "df_hits_copy['event_label'] = df_hits_copy['event_label'].fillna(\"unknown\")#Заполняю неизвестные ивенты как unknown"
   ]
  },
  {
   "cell_type": "code",
   "execution_count": 217,
   "id": "c9b4c7d9-b7a2-463e-9c87-fb1bb2bc527b",
   "metadata": {},
   "outputs": [
    {
     "name": "stdout",
     "output_type": "stream",
     "text": [
      "<class 'pandas.core.frame.DataFrame'>\n",
      "Index: 1732266 entries, 0 to 15726432\n",
      "Data columns (total 10 columns):\n",
      " #   Column          Non-Null Count    Dtype  \n",
      "---  ------          --------------    -----  \n",
      " 0   session_id      1732266 non-null  object \n",
      " 1   hit_date        1732266 non-null  object \n",
      " 2   hit_time        1732266 non-null  float64\n",
      " 3   hit_number      1732266 non-null  int64  \n",
      " 4   hit_type        1732266 non-null  object \n",
      " 5   hit_referer     1732266 non-null  object \n",
      " 6   hit_page_path   1732266 non-null  object \n",
      " 7   event_category  1732266 non-null  object \n",
      " 8   event_action    1732266 non-null  object \n",
      " 9   event_label     1732266 non-null  object \n",
      "dtypes: float64(1), int64(1), object(8)\n",
      "memory usage: 145.4+ MB\n"
     ]
    }
   ],
   "source": [
    "df_hits_copy.info(show_counts=True)"
   ]
  },
  {
   "cell_type": "code",
   "execution_count": 218,
   "id": "12bf62d7-1025-41e6-965d-80fb7b8f835e",
   "metadata": {},
   "outputs": [
    {
     "data": {
      "text/html": [
       "<div>\n",
       "<style scoped>\n",
       "    .dataframe tbody tr th:only-of-type {\n",
       "        vertical-align: middle;\n",
       "    }\n",
       "\n",
       "    .dataframe tbody tr th {\n",
       "        vertical-align: top;\n",
       "    }\n",
       "\n",
       "    .dataframe thead th {\n",
       "        text-align: right;\n",
       "    }\n",
       "</style>\n",
       "<table border=\"1\" class=\"dataframe\">\n",
       "  <thead>\n",
       "    <tr style=\"text-align: right;\">\n",
       "      <th></th>\n",
       "      <th>session_id</th>\n",
       "      <th>hit_date</th>\n",
       "      <th>hit_time</th>\n",
       "      <th>hit_number</th>\n",
       "      <th>hit_type</th>\n",
       "      <th>hit_referer</th>\n",
       "      <th>hit_page_path</th>\n",
       "      <th>event_category</th>\n",
       "      <th>event_action</th>\n",
       "      <th>event_label</th>\n",
       "    </tr>\n",
       "  </thead>\n",
       "  <tbody>\n",
       "    <tr>\n",
       "      <th>0</th>\n",
       "      <td>5639623078712724064.1640254056.1640254056</td>\n",
       "      <td>2021-12-23</td>\n",
       "      <td>597864.0</td>\n",
       "      <td>30</td>\n",
       "      <td>event</td>\n",
       "      <td>unknown</td>\n",
       "      <td>sberauto.com/cars?utm_source_initial=google&amp;ut...</td>\n",
       "      <td>quiz</td>\n",
       "      <td>quiz_show</td>\n",
       "      <td>unknown</td>\n",
       "    </tr>\n",
       "    <tr>\n",
       "      <th>1</th>\n",
       "      <td>7750352294969115059.1640271109.1640271109</td>\n",
       "      <td>2021-12-23</td>\n",
       "      <td>597331.0</td>\n",
       "      <td>41</td>\n",
       "      <td>event</td>\n",
       "      <td>unknown</td>\n",
       "      <td>sberauto.com/cars/fiat?city=1&amp;city=18&amp;rental_c...</td>\n",
       "      <td>quiz</td>\n",
       "      <td>quiz_show</td>\n",
       "      <td>unknown</td>\n",
       "    </tr>\n",
       "    <tr>\n",
       "      <th>2</th>\n",
       "      <td>885342191847998240.1640235807.1640235807</td>\n",
       "      <td>2021-12-23</td>\n",
       "      <td>796252.0</td>\n",
       "      <td>49</td>\n",
       "      <td>event</td>\n",
       "      <td>unknown</td>\n",
       "      <td>sberauto.com/cars/all/volkswagen/polo/e994838f...</td>\n",
       "      <td>quiz</td>\n",
       "      <td>quiz_show</td>\n",
       "      <td>unknown</td>\n",
       "    </tr>\n",
       "    <tr>\n",
       "      <th>3</th>\n",
       "      <td>142526202120934167.1640211014.1640211014</td>\n",
       "      <td>2021-12-23</td>\n",
       "      <td>934292.0</td>\n",
       "      <td>46</td>\n",
       "      <td>event</td>\n",
       "      <td>unknown</td>\n",
       "      <td>sberauto.com/cars?utm_source_initial=yandex&amp;ut...</td>\n",
       "      <td>quiz</td>\n",
       "      <td>quiz_show</td>\n",
       "      <td>unknown</td>\n",
       "    </tr>\n",
       "    <tr>\n",
       "      <th>4</th>\n",
       "      <td>3450086108837475701.1640265078.1640265078</td>\n",
       "      <td>2021-12-23</td>\n",
       "      <td>768741.0</td>\n",
       "      <td>79</td>\n",
       "      <td>event</td>\n",
       "      <td>unknown</td>\n",
       "      <td>sberauto.com/cars/all/mercedes-benz/cla-klasse...</td>\n",
       "      <td>quiz</td>\n",
       "      <td>quiz_show</td>\n",
       "      <td>unknown</td>\n",
       "    </tr>\n",
       "  </tbody>\n",
       "</table>\n",
       "</div>"
      ],
      "text/plain": [
       "                                  session_id    hit_date  hit_time  \\\n",
       "0  5639623078712724064.1640254056.1640254056  2021-12-23  597864.0   \n",
       "1  7750352294969115059.1640271109.1640271109  2021-12-23  597331.0   \n",
       "2   885342191847998240.1640235807.1640235807  2021-12-23  796252.0   \n",
       "3   142526202120934167.1640211014.1640211014  2021-12-23  934292.0   \n",
       "4  3450086108837475701.1640265078.1640265078  2021-12-23  768741.0   \n",
       "\n",
       "   hit_number hit_type hit_referer  \\\n",
       "0          30    event     unknown   \n",
       "1          41    event     unknown   \n",
       "2          49    event     unknown   \n",
       "3          46    event     unknown   \n",
       "4          79    event     unknown   \n",
       "\n",
       "                                       hit_page_path event_category  \\\n",
       "0  sberauto.com/cars?utm_source_initial=google&ut...           quiz   \n",
       "1  sberauto.com/cars/fiat?city=1&city=18&rental_c...           quiz   \n",
       "2  sberauto.com/cars/all/volkswagen/polo/e994838f...           quiz   \n",
       "3  sberauto.com/cars?utm_source_initial=yandex&ut...           quiz   \n",
       "4  sberauto.com/cars/all/mercedes-benz/cla-klasse...           quiz   \n",
       "\n",
       "  event_action event_label  \n",
       "0    quiz_show     unknown  \n",
       "1    quiz_show     unknown  \n",
       "2    quiz_show     unknown  \n",
       "3    quiz_show     unknown  \n",
       "4    quiz_show     unknown  "
      ]
     },
     "execution_count": 218,
     "metadata": {},
     "output_type": "execute_result"
    }
   ],
   "source": [
    "df_hits_copy.head()"
   ]
  },
  {
   "cell_type": "code",
   "execution_count": 219,
   "id": "0ce9e196-8a7b-4f31-8d86-535f69861dcf",
   "metadata": {},
   "outputs": [
    {
     "name": "stdout",
     "output_type": "stream",
     "text": [
      "<class 'pandas.core.series.Series'>\n",
      "Index: 1732266 entries, 0 to 15726432\n",
      "Series name: hit_date\n",
      "Non-Null Count    Dtype \n",
      "--------------    ----- \n",
      "1732266 non-null  object\n",
      "dtypes: object(1)\n",
      "memory usage: 26.4+ MB\n"
     ]
    }
   ],
   "source": [
    "df_hits_copy['hit_date'].info()"
   ]
  },
  {
   "cell_type": "code",
   "execution_count": 220,
   "id": "fd15e8fd-9d65-42e1-8990-16571b3cee7a",
   "metadata": {},
   "outputs": [],
   "source": [
    "df_hits_copy['hit_date'] = pd.to_datetime(df_hits_copy['hit_date']) #перевожу дату в нужный тип данных"
   ]
  },
  {
   "cell_type": "code",
   "execution_count": 221,
   "id": "71826412-ec12-4f59-8487-df6ba59a20bc",
   "metadata": {},
   "outputs": [
    {
     "data": {
      "text/html": [
       "<div>\n",
       "<style scoped>\n",
       "    .dataframe tbody tr th:only-of-type {\n",
       "        vertical-align: middle;\n",
       "    }\n",
       "\n",
       "    .dataframe tbody tr th {\n",
       "        vertical-align: top;\n",
       "    }\n",
       "\n",
       "    .dataframe thead th {\n",
       "        text-align: right;\n",
       "    }\n",
       "</style>\n",
       "<table border=\"1\" class=\"dataframe\">\n",
       "  <thead>\n",
       "    <tr style=\"text-align: right;\">\n",
       "      <th></th>\n",
       "      <th>session_id</th>\n",
       "      <th>hit_date</th>\n",
       "      <th>hit_time</th>\n",
       "      <th>hit_number</th>\n",
       "      <th>hit_type</th>\n",
       "      <th>hit_referer</th>\n",
       "      <th>hit_page_path</th>\n",
       "      <th>event_category</th>\n",
       "      <th>event_action</th>\n",
       "      <th>event_label</th>\n",
       "    </tr>\n",
       "  </thead>\n",
       "  <tbody>\n",
       "  </tbody>\n",
       "</table>\n",
       "</div>"
      ],
      "text/plain": [
       "Empty DataFrame\n",
       "Columns: [session_id, hit_date, hit_time, hit_number, hit_type, hit_referer, hit_page_path, event_category, event_action, event_label]\n",
       "Index: []"
      ]
     },
     "execution_count": 221,
     "metadata": {},
     "output_type": "execute_result"
    }
   ],
   "source": [
    "df_hits_copy.loc[df_hits_copy['hit_date'] == 'unknown']"
   ]
  },
  {
   "cell_type": "code",
   "execution_count": 222,
   "id": "bb87c3be-27bf-4ba0-b420-613f704b5f5d",
   "metadata": {},
   "outputs": [
    {
     "name": "stdout",
     "output_type": "stream",
     "text": [
      "<class 'pandas.core.series.Series'>\n",
      "Index: 1732266 entries, 0 to 15726432\n",
      "Series name: hit_time\n",
      "Non-Null Count    Dtype  \n",
      "--------------    -----  \n",
      "1732266 non-null  float64\n",
      "dtypes: float64(1)\n",
      "memory usage: 26.4 MB\n"
     ]
    }
   ],
   "source": [
    "df_hits_copy['hit_time'].info()"
   ]
  },
  {
   "cell_type": "code",
   "execution_count": 223,
   "id": "2b6a4d4a-d883-47c7-8612-c53812295dc0",
   "metadata": {},
   "outputs": [
    {
     "data": {
      "text/plain": [
       "0           597864.0\n",
       "1           597331.0\n",
       "2           796252.0\n",
       "3           934292.0\n",
       "4           768741.0\n",
       "              ...   \n",
       "15726424         0.0\n",
       "15726425         0.0\n",
       "15726426         0.0\n",
       "15726431    600274.0\n",
       "15726432    600811.0\n",
       "Name: hit_time, Length: 1732266, dtype: float64"
      ]
     },
     "execution_count": 223,
     "metadata": {},
     "output_type": "execute_result"
    }
   ],
   "source": [
    "df_hits_copy['hit_time']"
   ]
  },
  {
   "cell_type": "code",
   "execution_count": 224,
   "id": "dc31b8a3-472d-4fa3-984b-b0d86aa44ad9",
   "metadata": {},
   "outputs": [],
   "source": [
    "def convert_seconds_to_time(seconds):\n",
    "    seconds = seconds % 86400\n",
    "    td = timedelta(seconds=seconds)\n",
    "    return str(td)\n",
    "    #функция для перевода миллисекунд в формат hh:mm:ss"
   ]
  },
  {
   "cell_type": "code",
   "execution_count": 225,
   "id": "e7e74e0e-c436-4a51-8f61-77702bda9fa7",
   "metadata": {},
   "outputs": [],
   "source": [
    "df_hits_copy['hit_time'] = df_hits_copy['hit_time'].apply(convert_seconds_to_time)"
   ]
  },
  {
   "cell_type": "code",
   "execution_count": 226,
   "id": "9ca86fd9-0d8d-4c04-8acd-f8e814b19101",
   "metadata": {},
   "outputs": [
    {
     "name": "stderr",
     "output_type": "stream",
     "text": [
      "C:\\Users\\temir\\AppData\\Local\\Temp\\ipykernel_14828\\27048853.py:1: UserWarning: Could not infer format, so each element will be parsed individually, falling back to `dateutil`. To ensure parsing is consistent and as-expected, please specify a format.\n",
      "  df_hits_copy['hit_time'] = pd.to_datetime(df_hits_copy['hit_time'], errors='coerce')\n",
      "C:\\Users\\temir\\AppData\\Local\\Temp\\ipykernel_14828\\27048853.py:3: FutureWarning: 'S' is deprecated and will be removed in a future version, please use 's' instead.\n",
      "  df_hits_copy['hit_time'] = df_hits_copy['hit_time'].dt.floor('S').dt.time\n"
     ]
    }
   ],
   "source": [
    "df_hits_copy['hit_time'] = pd.to_datetime(df_hits_copy['hit_time'], errors='coerce')\n",
    "\n",
    "df_hits_copy['hit_time'] = df_hits_copy['hit_time'].dt.floor('S').dt.time #использую floor что бы секунды не стали дробным числом"
   ]
  },
  {
   "cell_type": "code",
   "execution_count": 227,
   "id": "4a5a2c0c-0abd-496c-addc-4e4cf4577c8b",
   "metadata": {
    "scrolled": true
   },
   "outputs": [
    {
     "data": {
      "text/plain": [
       "15722953    00:00:00\n",
       "15722999    00:00:00\n",
       "15723018    00:00:00\n",
       "15723069    00:00:00\n",
       "15723992    00:00:00\n",
       "15723993    00:00:00\n",
       "15723994    00:00:00\n",
       "15724104    17:45:15\n",
       "15724633    00:00:00\n",
       "15726353    00:00:08\n",
       "15726356    00:00:35\n",
       "15726359    00:01:08\n",
       "15726360    00:00:15\n",
       "15726361    00:00:16\n",
       "15726423    00:00:00\n",
       "15726424    00:00:00\n",
       "15726425    00:00:00\n",
       "15726426    00:00:00\n",
       "15726431    22:44:34\n",
       "15726432    22:53:31\n",
       "Name: hit_time, dtype: object"
      ]
     },
     "execution_count": 227,
     "metadata": {},
     "output_type": "execute_result"
    }
   ],
   "source": [
    "df_hits_copy['hit_time'].tail(20)"
   ]
  },
  {
   "cell_type": "code",
   "execution_count": 228,
   "id": "20766041-43ae-451b-9081-5d7784d4f081",
   "metadata": {},
   "outputs": [
    {
     "data": {
      "text/plain": [
       "hit_time\n",
       "19:14:26    1011968\n",
       "00:00:00      21645\n",
       "00:00:01       5649\n",
       "00:00:02       2569\n",
       "00:00:03       1534\n",
       "             ...   \n",
       "17:42:18          1\n",
       "12:14:55          1\n",
       "03:46:24          1\n",
       "21:40:48          1\n",
       "18:56:53          1\n",
       "Name: count, Length: 84045, dtype: int64"
      ]
     },
     "execution_count": 228,
     "metadata": {},
     "output_type": "execute_result"
    }
   ],
   "source": [
    "df_hits_copy['hit_time'].value_counts()"
   ]
  },
  {
   "cell_type": "code",
   "execution_count": 229,
   "id": "48b8ed73-ca95-439f-93e5-6e17b6dddab0",
   "metadata": {},
   "outputs": [],
   "source": [
    "event_action = ['sub_car_claim_click', 'sub_car_claim_submit_click', \n",
    "'sub_open_dialog_click', 'sub_custom_question_submit_click', \n",
    "'sub_call_number_click', 'sub_callback_submit_click', 'sub_submit_success', \n",
    "'sub_car_request_submit_click'] #все ивенты считающиеся целевыми"
   ]
  },
  {
   "cell_type": "code",
   "execution_count": 230,
   "id": "123edf3f-5d3e-4cc7-8dd4-1bdb2f37928f",
   "metadata": {},
   "outputs": [],
   "source": [
    "df_hits_copy['event_value'] = df_hits_copy['event_action'].apply(lambda x: 1 if x in event_action else 0) #обратно создаю колонку event_action "
   ]
  },
  {
   "cell_type": "code",
   "execution_count": 231,
   "id": "ab9a6159-3638-4530-9043-7fea8f41365c",
   "metadata": {},
   "outputs": [
    {
     "data": {
      "text/plain": [
       "event_value\n",
       "0    1727037\n",
       "1       5229\n",
       "Name: count, dtype: int64"
      ]
     },
     "execution_count": 231,
     "metadata": {},
     "output_type": "execute_result"
    }
   ],
   "source": [
    "df_hits_copy['event_value'].value_counts()"
   ]
  },
  {
   "cell_type": "code",
   "execution_count": 232,
   "id": "70aa07e7-640c-4c0d-a0a1-ebfcb5e6245e",
   "metadata": {},
   "outputs": [
    {
     "name": "stdout",
     "output_type": "stream",
     "text": [
      "<class 'pandas.core.frame.DataFrame'>\n",
      "Index: 1732266 entries, 0 to 15726432\n",
      "Data columns (total 11 columns):\n",
      " #   Column          Non-Null Count    Dtype         \n",
      "---  ------          --------------    -----         \n",
      " 0   session_id      1732266 non-null  object        \n",
      " 1   hit_date        1732266 non-null  datetime64[ns]\n",
      " 2   hit_time        1732266 non-null  object        \n",
      " 3   hit_number      1732266 non-null  int64         \n",
      " 4   hit_type        1732266 non-null  object        \n",
      " 5   hit_referer     1732266 non-null  object        \n",
      " 6   hit_page_path   1732266 non-null  object        \n",
      " 7   event_category  1732266 non-null  object        \n",
      " 8   event_action    1732266 non-null  object        \n",
      " 9   event_label     1732266 non-null  object        \n",
      " 10  event_value     1732266 non-null  int64         \n",
      "dtypes: datetime64[ns](1), int64(2), object(8)\n",
      "memory usage: 158.6+ MB\n"
     ]
    }
   ],
   "source": [
    "df_hits_copy.info(show_counts=True)"
   ]
  },
  {
   "cell_type": "code",
   "execution_count": 9,
   "id": "165463b3-a380-4677-a830-37a3ad0e969a",
   "metadata": {},
   "outputs": [
    {
     "ename": "NameError",
     "evalue": "name 'df_hits_copy' is not defined",
     "output_type": "error",
     "traceback": [
      "\u001b[1;31m---------------------------------------------------------------------------\u001b[0m",
      "\u001b[1;31mNameError\u001b[0m                                 Traceback (most recent call last)",
      "Cell \u001b[1;32mIn[9], line 1\u001b[0m\n\u001b[1;32m----> 1\u001b[0m df_hits_copy\u001b[38;5;241m.\u001b[39mto_csv(\u001b[38;5;124m'\u001b[39m\u001b[38;5;124mdata/df_hits_copy.csv\u001b[39m\u001b[38;5;124m'\u001b[39m, index\u001b[38;5;241m=\u001b[39m\u001b[38;5;28;01mFalse\u001b[39;00m)\n",
      "\u001b[1;31mNameError\u001b[0m: name 'df_hits_copy' is not defined"
     ]
    }
   ],
   "source": [
    "df_hits_copy.to_csv('data/df_hits_copy.csv', index=False)# сохраняю таблицу в новый csv файл"
   ]
  },
  {
   "cell_type": "code",
   "execution_count": 234,
   "id": "c4f53007-47e4-4bb7-9e0b-5fee9928a625",
   "metadata": {},
   "outputs": [
    {
     "name": "stdout",
     "output_type": "stream",
     "text": [
      "<class 'pandas.core.frame.DataFrame'>\n",
      "Index: 1732266 entries, 0 to 15726432\n",
      "Data columns (total 11 columns):\n",
      " #   Column          Dtype         \n",
      "---  ------          -----         \n",
      " 0   session_id      object        \n",
      " 1   hit_date        datetime64[ns]\n",
      " 2   hit_time        object        \n",
      " 3   hit_number      int64         \n",
      " 4   hit_type        object        \n",
      " 5   hit_referer     object        \n",
      " 6   hit_page_path   object        \n",
      " 7   event_category  object        \n",
      " 8   event_action    object        \n",
      " 9   event_label     object        \n",
      " 10  event_value     int64         \n",
      "dtypes: datetime64[ns](1), int64(2), object(8)\n",
      "memory usage: 158.6+ MB\n"
     ]
    }
   ],
   "source": [
    "df_hits_copy.info()"
   ]
  },
  {
   "cell_type": "markdown",
   "id": "ad4777c8-280d-43c1-a609-e4b04f2a339f",
   "metadata": {},
   "source": [
    "3) Создаю копию df_session для обработки"
   ]
  },
  {
   "cell_type": "code",
   "execution_count": 235,
   "id": "7b5b3209-074f-4d49-b3aa-579554faadf1",
   "metadata": {
    "scrolled": true
   },
   "outputs": [
    {
     "name": "stdout",
     "output_type": "stream",
     "text": [
      "<class 'pandas.core.frame.DataFrame'>\n",
      "RangeIndex: 1860042 entries, 0 to 1860041\n",
      "Data columns (total 18 columns):\n",
      " #   Column                    Non-Null Count    Dtype \n",
      "---  ------                    --------------    ----- \n",
      " 0   session_id                1860042 non-null  object\n",
      " 1   client_id                 1860042 non-null  object\n",
      " 2   visit_date                1860042 non-null  object\n",
      " 3   visit_time                1860042 non-null  object\n",
      " 4   visit_number              1860042 non-null  int64 \n",
      " 5   utm_source                1859945 non-null  object\n",
      " 6   utm_medium                1860042 non-null  object\n",
      " 7   utm_campaign              1640439 non-null  object\n",
      " 8   utm_adcontent             1524427 non-null  object\n",
      " 9   utm_keyword               777981 non-null   object\n",
      " 10  device_category           1860042 non-null  object\n",
      " 11  device_os                 789904 non-null   object\n",
      " 12  device_brand              1492864 non-null  object\n",
      " 13  device_model              16338 non-null    object\n",
      " 14  device_screen_resolution  1860042 non-null  object\n",
      " 15  device_browser            1860042 non-null  object\n",
      " 16  geo_country               1860042 non-null  object\n",
      " 17  geo_city                  1860042 non-null  object\n",
      "dtypes: int64(1), object(17)\n",
      "memory usage: 255.4+ MB\n"
     ]
    }
   ],
   "source": [
    "df_sessions.info(show_counts=True)#Проверка колонок на null "
   ]
  },
  {
   "cell_type": "code",
   "execution_count": 236,
   "id": "dd61a05c-21bb-4761-af21-5f435b86b797",
   "metadata": {},
   "outputs": [],
   "source": [
    "df_sessions_copy = pd.DataFrame.copy(df_sessions)"
   ]
  },
  {
   "cell_type": "code",
   "execution_count": 237,
   "id": "b6b98e5b-cc0c-474c-b6b9-45b0bca46aa2",
   "metadata": {},
   "outputs": [],
   "source": [
    "df_sessions_copy = df_sessions_copy.drop_duplicates(subset='session_id')"
   ]
  },
  {
   "cell_type": "code",
   "execution_count": 238,
   "id": "d16e600e-0413-446c-8d07-ac9f0e4a705a",
   "metadata": {},
   "outputs": [
    {
     "data": {
      "text/plain": [
       "count                   777981\n",
       "unique                    1219\n",
       "top       puhZPIYqKXeFPaUviSjo\n",
       "freq                    506819\n",
       "Name: utm_keyword, dtype: object"
      ]
     },
     "execution_count": 238,
     "metadata": {},
     "output_type": "execute_result"
    }
   ],
   "source": [
    "df_sessions_copy['utm_keyword'].describe()"
   ]
  },
  {
   "cell_type": "code",
   "execution_count": 239,
   "id": "136bd8bb-1079-4604-a3b5-2befeb6e36ef",
   "metadata": {},
   "outputs": [],
   "source": [
    "df_sessions_copy['utm_keyword'] = df_sessions_copy['utm_keyword'].fillna('unknown')#заполняю неизвестные ключевые слова"
   ]
  },
  {
   "cell_type": "code",
   "execution_count": 240,
   "id": "1e46d39e-1d49-4aee-b477-7d8dd2044bb3",
   "metadata": {},
   "outputs": [
    {
     "data": {
      "text/plain": [
       "count     1860042\n",
       "unique       1220\n",
       "top       unknown\n",
       "freq      1082061\n",
       "Name: utm_keyword, dtype: object"
      ]
     },
     "execution_count": 240,
     "metadata": {},
     "output_type": "execute_result"
    }
   ],
   "source": [
    "df_sessions_copy['utm_keyword'].describe()"
   ]
  },
  {
   "cell_type": "code",
   "execution_count": 241,
   "id": "fd88caf0-d3b6-4c82-b189-2014d62ac387",
   "metadata": {},
   "outputs": [
    {
     "data": {
      "text/plain": [
       "count                  1640439\n",
       "unique                     412\n",
       "top       LTuZkdKfxRGVceoWkVyg\n",
       "freq                    463481\n",
       "Name: utm_campaign, dtype: object"
      ]
     },
     "execution_count": 241,
     "metadata": {},
     "output_type": "execute_result"
    }
   ],
   "source": [
    "df_sessions_copy['utm_campaign'].describe()"
   ]
  },
  {
   "cell_type": "code",
   "execution_count": 242,
   "id": "40d16ce3-5a93-4bd5-82fe-f2b4cc687e72",
   "metadata": {},
   "outputs": [],
   "source": [
    "df_sessions_copy['utm_campaign'] = df_sessions_copy['utm_campaign'].fillna('unknown')#заполняю nan"
   ]
  },
  {
   "cell_type": "code",
   "execution_count": 243,
   "id": "a2ffca80-1bb0-4a0b-a8b8-bca5034b337e",
   "metadata": {},
   "outputs": [
    {
     "data": {
      "text/plain": [
       "count                  1860042\n",
       "unique                     413\n",
       "top       LTuZkdKfxRGVceoWkVyg\n",
       "freq                    463481\n",
       "Name: utm_campaign, dtype: object"
      ]
     },
     "execution_count": 243,
     "metadata": {},
     "output_type": "execute_result"
    }
   ],
   "source": [
    "df_sessions_copy['utm_campaign'].describe()"
   ]
  },
  {
   "cell_type": "code",
   "execution_count": 244,
   "id": "44e533b3-6053-40d5-b8ad-5b42a4921098",
   "metadata": {},
   "outputs": [
    {
     "data": {
      "text/plain": [
       "count                  1859945\n",
       "unique                     293\n",
       "top       ZpYIoDJMcFzVoPFsHGJL\n",
       "freq                    578290\n",
       "Name: utm_source, dtype: object"
      ]
     },
     "execution_count": 244,
     "metadata": {},
     "output_type": "execute_result"
    }
   ],
   "source": [
    "df_sessions_copy['utm_source'].describe()"
   ]
  },
  {
   "cell_type": "code",
   "execution_count": 245,
   "id": "fe299cb8-d809-4542-b20c-b7abb1dae799",
   "metadata": {},
   "outputs": [],
   "source": [
    "df_sessions_copy['utm_source'] = df_sessions_copy['utm_source'].fillna('unknown')#заполняю nan"
   ]
  },
  {
   "cell_type": "code",
   "execution_count": 246,
   "id": "a85ab90d-7b61-47ee-9cf6-10359d27f37d",
   "metadata": {},
   "outputs": [
    {
     "data": {
      "text/plain": [
       "count                  1524427\n",
       "unique                     286\n",
       "top       JNHcPlZPxEMWDnRiyoBf\n",
       "freq                   1006599\n",
       "Name: utm_adcontent, dtype: object"
      ]
     },
     "execution_count": 246,
     "metadata": {},
     "output_type": "execute_result"
    }
   ],
   "source": [
    "df_sessions_copy['utm_adcontent'].describe()"
   ]
  },
  {
   "cell_type": "code",
   "execution_count": 247,
   "id": "039b7d6a-b1f1-4165-9296-4cb01521213f",
   "metadata": {},
   "outputs": [],
   "source": [
    "df_sessions_copy['utm_adcontent'] = df_sessions_copy['utm_adcontent'].fillna('unknown')#заполняю nan"
   ]
  },
  {
   "cell_type": "code",
   "execution_count": 248,
   "id": "2c234cb7-ce00-407c-a66a-12a2c53704b2",
   "metadata": {},
   "outputs": [
    {
     "name": "stdout",
     "output_type": "stream",
     "text": [
      "<class 'pandas.core.frame.DataFrame'>\n",
      "RangeIndex: 1860042 entries, 0 to 1860041\n",
      "Data columns (total 18 columns):\n",
      " #   Column                    Non-Null Count    Dtype \n",
      "---  ------                    --------------    ----- \n",
      " 0   session_id                1860042 non-null  object\n",
      " 1   client_id                 1860042 non-null  object\n",
      " 2   visit_date                1860042 non-null  object\n",
      " 3   visit_time                1860042 non-null  object\n",
      " 4   visit_number              1860042 non-null  int64 \n",
      " 5   utm_source                1860042 non-null  object\n",
      " 6   utm_medium                1860042 non-null  object\n",
      " 7   utm_campaign              1860042 non-null  object\n",
      " 8   utm_adcontent             1860042 non-null  object\n",
      " 9   utm_keyword               1860042 non-null  object\n",
      " 10  device_category           1860042 non-null  object\n",
      " 11  device_os                 789904 non-null   object\n",
      " 12  device_brand              1492864 non-null  object\n",
      " 13  device_model              16338 non-null    object\n",
      " 14  device_screen_resolution  1860042 non-null  object\n",
      " 15  device_browser            1860042 non-null  object\n",
      " 16  geo_country               1860042 non-null  object\n",
      " 17  geo_city                  1860042 non-null  object\n",
      "dtypes: int64(1), object(17)\n",
      "memory usage: 255.4+ MB\n"
     ]
    }
   ],
   "source": [
    "df_sessions_copy.info(show_counts=True)"
   ]
  },
  {
   "cell_type": "code",
   "execution_count": 249,
   "id": "eab7a7b4-744d-4ffc-82ad-0003589e62bb",
   "metadata": {},
   "outputs": [],
   "source": [
    "df_sessions_copy['utm_source'] = df_sessions_copy['utm_source'].fillna('unknown')#заполняю nan"
   ]
  },
  {
   "cell_type": "code",
   "execution_count": 250,
   "id": "a5c4e073-83e2-4f1d-99dc-82ee0666a706",
   "metadata": {},
   "outputs": [
    {
     "data": {
      "text/plain": [
       "array([nan, 'qBRdfuuhOnnqwSqNiPOv', 'AshpvdJdReafUzEMmWGr',\n",
       "       'AuMdmADEIoPXiWpTsBEj', 'pcvPxfVFaAmhwFmvIeYd',\n",
       "       'mzJXHtJPIOSHoHtgezIA', 'pTgAEPipQxDXCjPrJbHo',\n",
       "       'IiVVIXFnNMwpBtuHILvS', 'FJApgTrMAGHoxCxQVKws',\n",
       "       'tfPZFRbtlzEssBEesRwM', 'tWBQlsvNfHxRUjaPAfhd',\n",
       "       'cwMJxNXiWUgMUxGiCTPs', 'zFCiMWkbbAhTflrlLWnz',\n",
       "       'phrsMxwuvNvYsPYNbKkL', 'QIRMJBHwssjlXzlheRfO',\n",
       "       'CwplVZElsIzdKfSTHwma', 'auOrYtJwDXWlMwuBxhRC',\n",
       "       'kGgpyeEtacYWhzbuuWMR', 'DzXtLnggNbQSyyFLKlgY',\n",
       "       'HYwfQOXoovXynCsiUCVd', 'mSVMBvlHFgftJaQAZEdp',\n",
       "       'kpwoWlshUwRtxMMtxukt', 'opEZzhCrCCxqjKDmOcMK',\n",
       "       'FMeAKypVmqdjUhayrjne', 'lOMpyAuAISPFiAxjXIYM',\n",
       "       'kjULrCjbRVbJtOfWpmQI', 'adBSYqsJPBFluBxhXRzx',\n",
       "       'jXFxTkHxuiBKWOvUtsIa', 'BhXucgFEfQMgSWpyKikP',\n",
       "       'ciZAODXEPQGDKvuEabGr', 'bwQQjmDtGgrbnrREsYSG',\n",
       "       'JAIKWwxRffFOXQcfGTVi', 'XoFyyEyrxZQbFrIVBGJU',\n",
       "       'oLPSmNOyoeTqtTUhnNIq', 'wsPZygnUifLMgkSEnWLj',\n",
       "       'wOpkmMMUmanXnzWXmcFq', 'eZRFfVvdAEANFDdbkujh',\n",
       "       'YyqUacVclbjfhEXffQFl', 'EEnoZBXHUTLQhNvTLYel',\n",
       "       'gHPFJHVEyWmOlsGSbywQ', 'uHXfMzLHbndcYLwKJMPV',\n",
       "       'xZYEHLyYdGXkJENJpTtu', 'WjsFbaSQmnGghVzNcrpJ',\n",
       "       'aCLaTVQlHcXbUnQYQvIg', 'OJiWyBKOyDITzXCZRSMH',\n",
       "       'ZkRlaMsFhSBPslXBtfiG', 'NGNkCWwKgYFmiCCeZVxg',\n",
       "       'bZGRDuESNKqbvzmxXlpf', 'KUROllwAYyecYcjFOgAi',\n",
       "       'JGctjjnHmHZeOLjBUdBa', 'DuhIUfykJOltHmJKEmHA',\n",
       "       'WYZTTdhWPjttFYmcGjBP', 'qAQjHpYoRUxgMseGGEfL',\n",
       "       'sLQbYFRIWJPmCqXsQgTS', 'ftFxnRDRijjFNnJoXPMw',\n",
       "       'XnjPzKjkHmznVfULanbE', 'jWdGMEVrJZkHcVcJFAda',\n",
       "       'rTksOeVOQqJRyKCjcexB', 'FTAuYVNoYYxgvKMpKSLW',\n",
       "       'KaKTLTCMziqpJtMcEXkz', 'OSucmOyBXEpHCUNRuhuN',\n",
       "       'hSzHgWXfOZhXwHXOrXgd', 'VzoFtfHotWfgMqOvhhpk',\n",
       "       'QIKziXyAufrHMzeBTtlI', 'WpQWiuxAzSOBVgxHHdIY',\n",
       "       'zjEebiuHyqSWFKMwbgwQ', 'kwdmElMUPDZaLQdgjcsI',\n",
       "       'QzPMrfYhYSLYYPtPaBxI', 'ifwJecAlGiEmDdqlxOfb',\n",
       "       'hOSlJjNkbQLQMLcCEhkW', 'bIOFZrPZrfEFvdWvOiYU',\n",
       "       'WymtaMEpzzcbgnLOYVxw', 'YqFuzozZqJUwAiOSwtNy',\n",
       "       'LDCqZZOpaddysclyNkHj', 'oxpzlKvWgXXXyOclMrkW',\n",
       "       'lhoYkemXATyKyUwRAztp', 'wpMKhptHblpEnLMZvGir',\n",
       "       'uTDzCIDJDdgdnDlBOjJZ', 'CHEgAchdlTbIOcHAYzGk',\n",
       "       'aWSBcBZlKorTFjJGlWKG', 'TMDlgkQzhHCgECHRtiOW',\n",
       "       'hSpKAfxjbtPlBdqCUPEN', 'zcovoWIWBZLooJXEJyTD',\n",
       "       'hOhIHYHnDhUlkzDoZJdA', 'UBWdrePiTaaBAMHVHpOq',\n",
       "       'RmEBuqrriAfAVsLQQmhk', 'VDidzTqFGxuqiRQJGrwB',\n",
       "       'YhYIjUokafmjAtBGxFEZ', 'MBGYWAQSYWUphNxTsAWD',\n",
       "       'YTDFqIabKsQVGozQYoPf', 'qmRODeCJLlmkmwxNYXvp',\n",
       "       'foPJGhraIZhogREKtYLR', 'ZCFvDdRaCVwsuCIbnPOf',\n",
       "       'niQdLVcBlNylrEuNcCYH', 'JNHcPlZPxEMWDnRiyoBf',\n",
       "       'dKEqQIppnqmEbdtpiTSB', 'FoyKxqoerEIbJjsjmgpn',\n",
       "       'UvyzWsKbojrmlVrFRIgp', 'bTXLctmbbOJCWJiZDqSP',\n",
       "       'mhkBNBhsTwAvDUZdstnC', 'MbollXMuOxfwxhQmvVNl',\n",
       "       'OcbjxWiIiIrHRDLmliqt', 'xMYlmvNxReLFGfXkQTYj',\n",
       "       'vybTbTvsqxkeqykOdEPH', 'PGJlcQwncXKgOzNKZdeF'], dtype=object)"
      ]
     },
     "execution_count": 250,
     "metadata": {},
     "output_type": "execute_result"
    }
   ],
   "source": [
    "df_sessions_copy['device_model'].unique()"
   ]
  },
  {
   "cell_type": "code",
   "execution_count": 251,
   "id": "3f632e19-ec08-4273-b0e3-650f6b5656b4",
   "metadata": {},
   "outputs": [],
   "source": [
    "df_sessions_copy['device_model'] = df_sessions_copy['device_model'].fillna('unknown')#заполняю nan"
   ]
  },
  {
   "cell_type": "code",
   "execution_count": 252,
   "id": "949711f1-1d1d-424f-b9f0-0780954ad417",
   "metadata": {},
   "outputs": [
    {
     "data": {
      "text/plain": [
       "array(['Android', nan, 'iOS', 'Windows', 'Linux', 'Macintosh',\n",
       "       '(not set)', 'Chrome OS', 'BlackBerry', 'Tizen', 'Firefox OS',\n",
       "       'Samsung', 'Windows Phone', 'Nokia'], dtype=object)"
      ]
     },
     "execution_count": 252,
     "metadata": {},
     "output_type": "execute_result"
    }
   ],
   "source": [
    "df_sessions_copy['device_os'].unique() "
   ]
  },
  {
   "cell_type": "code",
   "execution_count": 253,
   "id": "3a828cd6-7edf-4568-b9e9-14379504f48d",
   "metadata": {},
   "outputs": [
    {
     "data": {
      "text/plain": [
       "device_os\n",
       "Android          464054\n",
       "iOS              207104\n",
       "Windows           88307\n",
       "Macintosh         24824\n",
       "Linux              5120\n",
       "(not set)           364\n",
       "Chrome OS            83\n",
       "BlackBerry           27\n",
       "Tizen                 7\n",
       "Samsung               4\n",
       "Windows Phone         4\n",
       "Firefox OS            3\n",
       "Nokia                 3\n",
       "Name: count, dtype: int64"
      ]
     },
     "execution_count": 253,
     "metadata": {},
     "output_type": "execute_result"
    }
   ],
   "source": [
    "df_sessions_copy['device_os'].value_counts()"
   ]
  },
  {
   "cell_type": "code",
   "execution_count": 254,
   "id": "aee9768c-17e6-4048-8500-5c7a2efb784d",
   "metadata": {},
   "outputs": [],
   "source": [
    "df_sessions_copy.loc[df_sessions_copy['device_os'] == '(not set)', 'device_os'] = 'unknown' #меняю not set на unknown\n"
   ]
  },
  {
   "cell_type": "code",
   "execution_count": 255,
   "id": "3ef2d65d-2fe3-422d-9981-e96fd07f1cb3",
   "metadata": {},
   "outputs": [
    {
     "data": {
      "text/plain": [
       "device_os\n",
       "Android          464054\n",
       "iOS              207104\n",
       "Windows           88307\n",
       "Macintosh         24824\n",
       "Linux              5120\n",
       "unknown             364\n",
       "Chrome OS            83\n",
       "BlackBerry           27\n",
       "Tizen                 7\n",
       "Samsung               4\n",
       "Windows Phone         4\n",
       "Firefox OS            3\n",
       "Nokia                 3\n",
       "Name: count, dtype: int64"
      ]
     },
     "execution_count": 255,
     "metadata": {},
     "output_type": "execute_result"
    }
   ],
   "source": [
    "df_sessions_copy['device_os'].value_counts()"
   ]
  },
  {
   "cell_type": "code",
   "execution_count": 256,
   "id": "98e3e2a8-1ef1-496d-bae1-3efa70af48c9",
   "metadata": {},
   "outputs": [],
   "source": [
    "df_sessions_copy['device_os'] = df_sessions_copy['device_os'].fillna('unknown')#заполняю nan"
   ]
  },
  {
   "cell_type": "code",
   "execution_count": 257,
   "id": "ad21318c-6915-4010-bbac-376c6963e242",
   "metadata": {},
   "outputs": [
    {
     "name": "stdout",
     "output_type": "stream",
     "text": [
      "<class 'pandas.core.frame.DataFrame'>\n",
      "RangeIndex: 1860042 entries, 0 to 1860041\n",
      "Data columns (total 18 columns):\n",
      " #   Column                    Non-Null Count    Dtype \n",
      "---  ------                    --------------    ----- \n",
      " 0   session_id                1860042 non-null  object\n",
      " 1   client_id                 1860042 non-null  object\n",
      " 2   visit_date                1860042 non-null  object\n",
      " 3   visit_time                1860042 non-null  object\n",
      " 4   visit_number              1860042 non-null  int64 \n",
      " 5   utm_source                1860042 non-null  object\n",
      " 6   utm_medium                1860042 non-null  object\n",
      " 7   utm_campaign              1860042 non-null  object\n",
      " 8   utm_adcontent             1860042 non-null  object\n",
      " 9   utm_keyword               1860042 non-null  object\n",
      " 10  device_category           1860042 non-null  object\n",
      " 11  device_os                 1860042 non-null  object\n",
      " 12  device_brand              1492864 non-null  object\n",
      " 13  device_model              1860042 non-null  object\n",
      " 14  device_screen_resolution  1860042 non-null  object\n",
      " 15  device_browser            1860042 non-null  object\n",
      " 16  geo_country               1860042 non-null  object\n",
      " 17  geo_city                  1860042 non-null  object\n",
      "dtypes: int64(1), object(17)\n",
      "memory usage: 255.4+ MB\n"
     ]
    }
   ],
   "source": [
    "df_sessions_copy.info(show_counts=True)"
   ]
  },
  {
   "cell_type": "code",
   "execution_count": 258,
   "id": "c7494fed-7455-4225-be96-17a195b26eb9",
   "metadata": {},
   "outputs": [
    {
     "data": {
      "text/plain": [
       "array(['Huawei', 'Samsung', 'Xiaomi', 'Apple', 'Lenovo', nan, 'Vivo',\n",
       "       'Meizu', 'OnePlus', '(not set)', 'BQ', 'Realme', 'OPPO', 'itel',\n",
       "       'Philips', 'Nokia', 'Alcatel', 'LG', 'Tecno', 'Asus', 'Infinix',\n",
       "       'Sony', 'ZTE', 'Wiko', 'Google', 'Micromax', 'Blackview',\n",
       "       'Oukitel', 'Wileyfox', 'Motorola', 'HOMTOM', 'Cubot', 'DOOGEE',\n",
       "       'China Phone', 'DEXP', 'Neffos', 'TP-Link', 'Hisense', 'Acer',\n",
       "       'Vsmart', 'BlackBerry', 'Umidigi', 'Leagoo', 'Highscreen',\n",
       "       'Ulefone', 'HTC', 'Symphony', 'LeEco', 'Prestigio', 'POCO',\n",
       "       'Vestel', 'Guophone', 'Vertex', 'CAT', 'InFocus', 'TCL',\n",
       "       'SonyEricsson', 'Inoi', 'Nomu', 'Sharp', 'Jiake', 'ZOJI', 'Yuntab',\n",
       "       'Mozilla', 'Vernee', 'Tele2', 'H96', 'Kyocera', 'Karbonn', 'BLU',\n",
       "       'Haier', 'Kingplay', 'Coolpad', 'MTC', 'LeTV', 'iNew', 'A1',\n",
       "       'Gionee', 'General Mobile', 'Digma', 'Yota Devices', 'Gome',\n",
       "       'Egreat', 'Kata', 'Mito', 'Poptel', 'Flylion', 'AGM', 'SenseIT',\n",
       "       'Archos', 'Teclast', 'Fly', 'MLS', 'Keecoo', 'Panasonic', 'InnJoo',\n",
       "       'Iris', 'Itoos', 'Black Fox', 'Nuu', 'Celkon', 'Chuwi', 'Walton',\n",
       "       'Xiaolajiao', 'Lava', 'myPhone', 'Condor', 'Razer', 'Microsoft',\n",
       "       'Fujitsu', 'Alldocube', 'UGOOS', 'Amazon', 'PPTV', 'Pantech',\n",
       "       'Oysters', 'NOA', 'Komu', 'Caterpillar', 'Qbex', 'Wigor',\n",
       "       'Verizon', 'Artel', 'Ananda', 'Smartisan', 'Elephone', 'RCA',\n",
       "       'Cube', 'Flexymove', 'AT&T', 'Advan', 'Fairphone', 'Corn',\n",
       "       'Tonbux', 'TurboPad', 'Dark', 'T-Mobile', 'China Mobile',\n",
       "       'Smartfren', 'MXQ', 'Billion', 'teXet', 'MTS', 'Geotel', 'BLUBOO',\n",
       "       'INUI', 'Hafury', 'Krip', 'MediaTek', 'Digiland', 'KingSing',\n",
       "       'Unihertz', 'Ark', 'Essential', 'Dragon Touch', 'E&L', 'Fero',\n",
       "       'Land Rover', 'Tanix', 'Vertu', 'Mlais', 'Ken Xin Da', 'Beelink',\n",
       "       'Orbic', 'Irbis', 'Honeywell', 'RED', 'QMobile', 'Sonim', 'Jiayu',\n",
       "       'Evertek', 'Gretel', 'Leegoog', 'China TVBox', 'Tesla', 'Vodafone',\n",
       "       'Explay', 'Evercoss', 'Honor', 'Wexler', 'Smarteo', 'Olla', 'Star',\n",
       "       'UMI', 'Mobiistar', 'ThL', 'Ellipsis', 'Xgody', 'LTC', 'Motive',\n",
       "       'Wieppo', 'M-HORSE', 'Winnovo', 'Nomi', 'Wings Mobile', 'How',\n",
       "       'Centric', 'Gigaset', 'Maze', 'Dell', 'Kenxinda', 'Tagital',\n",
       "       'Dynamic', 'FREETEL', 'Maxvi', 'Opera'], dtype=object)"
      ]
     },
     "execution_count": 258,
     "metadata": {},
     "output_type": "execute_result"
    }
   ],
   "source": [
    "df_sessions['device_brand'].unique()"
   ]
  },
  {
   "cell_type": "code",
   "execution_count": 259,
   "id": "213ea3cc-3d8d-4e87-b0ee-df43154bc949",
   "metadata": {},
   "outputs": [],
   "source": [
    "df_sessions_copy['device_brand'] = df_sessions_copy['device_brand'].fillna('unknown')#заполняю nan"
   ]
  },
  {
   "cell_type": "code",
   "execution_count": 260,
   "id": "8e0e02bb-3d96-4b9f-b257-2a067fb74784",
   "metadata": {},
   "outputs": [
    {
     "data": {
      "text/plain": [
       "device_brand\n",
       "Apple       551088\n",
       "unknown     367178\n",
       "Samsung     332194\n",
       "Xiaomi      288367\n",
       "Huawei      185853\n",
       "             ...  \n",
       "Vodafone         1\n",
       "Wexler           1\n",
       "KingSing         1\n",
       "Star             1\n",
       "Opera            1\n",
       "Name: count, Length: 206, dtype: int64"
      ]
     },
     "execution_count": 260,
     "metadata": {},
     "output_type": "execute_result"
    }
   ],
   "source": [
    "df_sessions_copy['device_brand'].value_counts()"
   ]
  },
  {
   "cell_type": "code",
   "execution_count": 261,
   "id": "7c91a394-785a-4164-bda1-35955cb6706a",
   "metadata": {},
   "outputs": [],
   "source": [
    "df_sessions_copy.loc[df_sessions_copy['device_brand'] == 'Apple', 'device_os'] = 'ios'#заполнил все неизвестные os с маркой apple в ios"
   ]
  },
  {
   "cell_type": "code",
   "execution_count": 262,
   "id": "01c50808-def7-4f08-aacc-f01a5586621f",
   "metadata": {},
   "outputs": [
    {
     "data": {
      "text/plain": [
       "device_os\n",
       "unknown          726512\n",
       "ios              551088\n",
       "Android          464054\n",
       "Windows           88307\n",
       "Macintosh         24824\n",
       "Linux              5120\n",
       "Chrome OS            83\n",
       "BlackBerry           27\n",
       "Tizen                 7\n",
       "iOS                   6\n",
       "Samsung               4\n",
       "Windows Phone         4\n",
       "Firefox OS            3\n",
       "Nokia                 3\n",
       "Name: count, dtype: int64"
      ]
     },
     "execution_count": 262,
     "metadata": {},
     "output_type": "execute_result"
    }
   ],
   "source": [
    "df_sessions_copy['device_os'].value_counts()"
   ]
  },
  {
   "cell_type": "code",
   "execution_count": 263,
   "id": "fdcebef1-49fd-422a-af8c-845ed705296c",
   "metadata": {},
   "outputs": [
    {
     "data": {
      "text/plain": [
       "0          unknown\n",
       "1          unknown\n",
       "2          unknown\n",
       "3          unknown\n",
       "4          unknown\n",
       "            ...   \n",
       "1860037    unknown\n",
       "1860038    unknown\n",
       "1860039    unknown\n",
       "1860040    unknown\n",
       "1860041    unknown\n",
       "Name: device_model, Length: 1860042, dtype: object"
      ]
     },
     "execution_count": 263,
     "metadata": {},
     "output_type": "execute_result"
    }
   ],
   "source": [
    "df_sessions_copy['device_model']"
   ]
  },
  {
   "cell_type": "code",
   "execution_count": 264,
   "id": "72410669-68e9-42d6-87d6-b5e97464206c",
   "metadata": {},
   "outputs": [],
   "source": [
    "android_brands = [\n",
    "    'Huawei', 'Samsung', 'Xiaomi', 'Lenovo', 'Vivo', 'Meizu', 'OnePlus', 'BQ', 'Realme', 'OPPO', 'itel',\n",
    "    'Nokia', 'Alcatel', 'LG', 'Tecno', 'Asus', 'Infinix', 'Sony', 'ZTE', 'Wiko', 'Micromax', 'Blackview',\n",
    "    'Oukitel', 'Wileyfox', 'Motorola', 'HOMTOM', 'Cubot', 'DOOGEE', 'China Phone', 'DEXP', 'Neffos',\n",
    "    'TP-Link', 'Hisense', 'Acer', 'Vsmart', 'Umidigi', 'Leagoo', 'Highscreen', 'Ulefone', 'HTC',\n",
    "    'Symphony', 'LeEco', 'Prestigio', 'POCO', 'Guophone', 'Vertex', 'CAT', 'InFocus', 'TCL',\n",
    "    'SonyEricsson', 'Inoi', 'Nomu', 'Sharp', 'Jiake', 'ZOJI', 'Yuntab', 'Mozilla', 'Vernee', 'Tele2',\n",
    "    'H96', 'Karbonn', 'BLU', 'Haier', 'Kingplay', 'Coolpad', 'MTC', 'LeTV', 'iNew', 'Gionee', 'Digma',\n",
    "    'Yota Devices', 'Gome', 'AGM', 'SenseIT', 'Archos', 'Fly', 'Panasonic', 'InnJoo', 'Fujitsu',\n",
    "    'Fairphone', 'TurboPad', 'China Mobile', 'Unihertz', 'Krip', 'MediaTek', 'Tanix', 'Land Rover',\n",
    "    'Beelink', 'Irbis', 'RED', 'QMobile', 'Evertek', 'Vodafone', 'Honor', 'Tesla', 'UMI', 'Xgody', 'Dell'\n",
    "] #для заполнения os с android"
   ]
  },
  {
   "cell_type": "code",
   "execution_count": 265,
   "id": "66c81bdb-9b11-476d-9bc6-e43a8fdc976d",
   "metadata": {},
   "outputs": [],
   "source": [
    "df_sessions_copy.loc[df_sessions_copy['device_brand'].isin(android_brands), 'device_os'] = 'Android'#для заполнения os с android"
   ]
  },
  {
   "cell_type": "code",
   "execution_count": 266,
   "id": "c786055c-195e-47ef-96eb-83146d3728e0",
   "metadata": {},
   "outputs": [
    {
     "data": {
      "text/plain": [
       "device_os\n",
       "Android          930116\n",
       "ios              551088\n",
       "unknown          260462\n",
       "Windows           88307\n",
       "Macintosh         24824\n",
       "Linux              5120\n",
       "Chrome OS            83\n",
       "BlackBerry           27\n",
       "Tizen                 7\n",
       "iOS                   6\n",
       "Windows Phone         2\n",
       "Name: count, dtype: int64"
      ]
     },
     "execution_count": 266,
     "metadata": {},
     "output_type": "execute_result"
    }
   ],
   "source": [
    "df_sessions_copy['device_os'].value_counts()"
   ]
  },
  {
   "cell_type": "code",
   "execution_count": 267,
   "id": "3d6e5d1e-ce33-46b8-82c3-7c1c7c6a1dde",
   "metadata": {},
   "outputs": [],
   "source": [
    "df_sessions_copy.loc[df_sessions_copy['device_brand'] == 'Microsoft', 'device_os'] = 'Windows'"
   ]
  },
  {
   "cell_type": "code",
   "execution_count": 268,
   "id": "4871d54c-693e-450d-8ecb-dbb7d20c39be",
   "metadata": {},
   "outputs": [],
   "source": [
    "df_sessions_copy.loc[df_sessions_copy['device_brand'] == 'BlackBerry', 'device_os'] = 'BlackBerry'"
   ]
  },
  {
   "cell_type": "code",
   "execution_count": 269,
   "id": "870fd008-6bf3-4b9f-af43-dc868b0ed64c",
   "metadata": {},
   "outputs": [],
   "source": [
    "df_sessions_copy.loc[df_sessions_copy['device_os'] == 'iOS', 'device_os'] = 'ios'"
   ]
  },
  {
   "cell_type": "code",
   "execution_count": 270,
   "id": "2c722e80-2bcc-4c5f-b9e7-752eb5087f6a",
   "metadata": {},
   "outputs": [
    {
     "data": {
      "text/plain": [
       "device_os\n",
       "Android          930051\n",
       "ios              551094\n",
       "unknown          260214\n",
       "Windows           88309\n",
       "Macintosh         24824\n",
       "Linux              5120\n",
       "BlackBerry          338\n",
       "Chrome OS            83\n",
       "Tizen                 7\n",
       "Windows Phone         2\n",
       "Name: count, dtype: int64"
      ]
     },
     "execution_count": 270,
     "metadata": {},
     "output_type": "execute_result"
    }
   ],
   "source": [
    "df_sessions_copy['device_os'].value_counts()"
   ]
  },
  {
   "cell_type": "code",
   "execution_count": 271,
   "id": "da65ab13-de68-4145-a169-fc90cd996d49",
   "metadata": {},
   "outputs": [],
   "source": [
    "df_sessions_copy.loc[df_sessions_copy['device_brand'] == 'Nokia', 'device_os'] = 'Windows Phone'"
   ]
  },
  {
   "cell_type": "code",
   "execution_count": 272,
   "id": "577833e1-9864-489f-a1b9-1d73c581f5e4",
   "metadata": {},
   "outputs": [],
   "source": [
    "df_sessions_copy.loc[df_sessions_copy['device_brand'] == 'SonyEricsson', 'device_os'] = 'Android'"
   ]
  },
  {
   "cell_type": "code",
   "execution_count": 273,
   "id": "8dd8eb69-55bd-4340-a9cb-cecac906c6f7",
   "metadata": {},
   "outputs": [
    {
     "data": {
      "text/plain": [
       "device_os\n",
       "Android          922766\n",
       "ios              551094\n",
       "unknown          260214\n",
       "Windows           88309\n",
       "Macintosh         24824\n",
       "Windows Phone      7287\n",
       "Linux              5120\n",
       "BlackBerry          338\n",
       "Chrome OS            83\n",
       "Tizen                 7\n",
       "Name: count, dtype: int64"
      ]
     },
     "execution_count": 273,
     "metadata": {},
     "output_type": "execute_result"
    }
   ],
   "source": [
    "df_sessions_copy['device_os'].value_counts()"
   ]
  },
  {
   "cell_type": "code",
   "execution_count": 274,
   "id": "4dd4113b-efcf-4f77-83c7-7fae1a5a38fa",
   "metadata": {},
   "outputs": [],
   "source": [
    "df_sessions_copy.loc[df_sessions_copy['device_os'] == 'unknown', 'device_os'] = 'other'"
   ]
  },
  {
   "cell_type": "code",
   "execution_count": 275,
   "id": "4961d5fa-97ce-46aa-8314-a20443ba35b6",
   "metadata": {},
   "outputs": [
    {
     "data": {
      "text/plain": [
       "device_os\n",
       "Android          922766\n",
       "ios              551094\n",
       "other            260214\n",
       "Windows           88309\n",
       "Macintosh         24824\n",
       "Windows Phone      7287\n",
       "Linux              5120\n",
       "BlackBerry          338\n",
       "Chrome OS            83\n",
       "Tizen                 7\n",
       "Name: count, dtype: int64"
      ]
     },
     "execution_count": 275,
     "metadata": {},
     "output_type": "execute_result"
    }
   ],
   "source": [
    "df_sessions_copy['device_os'].value_counts()"
   ]
  },
  {
   "cell_type": "code",
   "execution_count": 276,
   "id": "1e1591d8-8346-4a28-a733-84ecc4fc9c04",
   "metadata": {
    "scrolled": true
   },
   "outputs": [
    {
     "name": "stdout",
     "output_type": "stream",
     "text": [
      "<class 'pandas.core.frame.DataFrame'>\n",
      "RangeIndex: 1860042 entries, 0 to 1860041\n",
      "Data columns (total 18 columns):\n",
      " #   Column                    Non-Null Count    Dtype \n",
      "---  ------                    --------------    ----- \n",
      " 0   session_id                1860042 non-null  object\n",
      " 1   client_id                 1860042 non-null  object\n",
      " 2   visit_date                1860042 non-null  object\n",
      " 3   visit_time                1860042 non-null  object\n",
      " 4   visit_number              1860042 non-null  int64 \n",
      " 5   utm_source                1860042 non-null  object\n",
      " 6   utm_medium                1860042 non-null  object\n",
      " 7   utm_campaign              1860042 non-null  object\n",
      " 8   utm_adcontent             1860042 non-null  object\n",
      " 9   utm_keyword               1860042 non-null  object\n",
      " 10  device_category           1860042 non-null  object\n",
      " 11  device_os                 1860042 non-null  object\n",
      " 12  device_brand              1860042 non-null  object\n",
      " 13  device_model              1860042 non-null  object\n",
      " 14  device_screen_resolution  1860042 non-null  object\n",
      " 15  device_browser            1860042 non-null  object\n",
      " 16  geo_country               1860042 non-null  object\n",
      " 17  geo_city                  1860042 non-null  object\n",
      "dtypes: int64(1), object(17)\n",
      "memory usage: 255.4+ MB\n"
     ]
    }
   ],
   "source": [
    "df_sessions_copy.info(show_counts=True)"
   ]
  },
  {
   "cell_type": "code",
   "execution_count": 277,
   "id": "8036326e-34bf-45e6-a233-ae3ec199d13d",
   "metadata": {},
   "outputs": [],
   "source": [
    "df_sessions_copy.to_csv(\"data/df_session_copy.csv\", index=False) #сохраняю обработанный файл в csv"
   ]
  },
  {
   "cell_type": "markdown",
   "id": "fdf10460-d00b-485e-86a6-bb053d28ce73",
   "metadata": {},
   "source": [
    "4) проверка таблиц"
   ]
  },
  {
   "cell_type": "code",
   "execution_count": 278,
   "id": "b153742f-7166-4c0b-a578-62f9f9684dc8",
   "metadata": {},
   "outputs": [
    {
     "data": {
      "text/html": [
       "<div>\n",
       "<style scoped>\n",
       "    .dataframe tbody tr th:only-of-type {\n",
       "        vertical-align: middle;\n",
       "    }\n",
       "\n",
       "    .dataframe tbody tr th {\n",
       "        vertical-align: top;\n",
       "    }\n",
       "\n",
       "    .dataframe thead th {\n",
       "        text-align: right;\n",
       "    }\n",
       "</style>\n",
       "<table border=\"1\" class=\"dataframe\">\n",
       "  <thead>\n",
       "    <tr style=\"text-align: right;\">\n",
       "      <th></th>\n",
       "      <th>session_id</th>\n",
       "      <th>hit_date</th>\n",
       "      <th>hit_time</th>\n",
       "      <th>hit_number</th>\n",
       "      <th>hit_type</th>\n",
       "      <th>hit_referer</th>\n",
       "      <th>hit_page_path</th>\n",
       "      <th>event_category</th>\n",
       "      <th>event_action</th>\n",
       "      <th>event_label</th>\n",
       "      <th>event_value</th>\n",
       "    </tr>\n",
       "  </thead>\n",
       "  <tbody>\n",
       "    <tr>\n",
       "      <th>0</th>\n",
       "      <td>5639623078712724064.1640254056.1640254056</td>\n",
       "      <td>2021-12-23</td>\n",
       "      <td>22:04:24</td>\n",
       "      <td>30</td>\n",
       "      <td>event</td>\n",
       "      <td>unknown</td>\n",
       "      <td>sberauto.com/cars?utm_source_initial=google&amp;ut...</td>\n",
       "      <td>quiz</td>\n",
       "      <td>quiz_show</td>\n",
       "      <td>unknown</td>\n",
       "      <td>0</td>\n",
       "    </tr>\n",
       "    <tr>\n",
       "      <th>1</th>\n",
       "      <td>7750352294969115059.1640271109.1640271109</td>\n",
       "      <td>2021-12-23</td>\n",
       "      <td>21:55:31</td>\n",
       "      <td>41</td>\n",
       "      <td>event</td>\n",
       "      <td>unknown</td>\n",
       "      <td>sberauto.com/cars/fiat?city=1&amp;city=18&amp;rental_c...</td>\n",
       "      <td>quiz</td>\n",
       "      <td>quiz_show</td>\n",
       "      <td>unknown</td>\n",
       "      <td>0</td>\n",
       "    </tr>\n",
       "    <tr>\n",
       "      <th>2</th>\n",
       "      <td>885342191847998240.1640235807.1640235807</td>\n",
       "      <td>2021-12-23</td>\n",
       "      <td>05:10:52</td>\n",
       "      <td>49</td>\n",
       "      <td>event</td>\n",
       "      <td>unknown</td>\n",
       "      <td>sberauto.com/cars/all/volkswagen/polo/e994838f...</td>\n",
       "      <td>quiz</td>\n",
       "      <td>quiz_show</td>\n",
       "      <td>unknown</td>\n",
       "      <td>0</td>\n",
       "    </tr>\n",
       "    <tr>\n",
       "      <th>3</th>\n",
       "      <td>142526202120934167.1640211014.1640211014</td>\n",
       "      <td>2021-12-23</td>\n",
       "      <td>19:31:32</td>\n",
       "      <td>46</td>\n",
       "      <td>event</td>\n",
       "      <td>unknown</td>\n",
       "      <td>sberauto.com/cars?utm_source_initial=yandex&amp;ut...</td>\n",
       "      <td>quiz</td>\n",
       "      <td>quiz_show</td>\n",
       "      <td>unknown</td>\n",
       "      <td>0</td>\n",
       "    </tr>\n",
       "    <tr>\n",
       "      <th>4</th>\n",
       "      <td>3450086108837475701.1640265078.1640265078</td>\n",
       "      <td>2021-12-23</td>\n",
       "      <td>21:32:21</td>\n",
       "      <td>79</td>\n",
       "      <td>event</td>\n",
       "      <td>unknown</td>\n",
       "      <td>sberauto.com/cars/all/mercedes-benz/cla-klasse...</td>\n",
       "      <td>quiz</td>\n",
       "      <td>quiz_show</td>\n",
       "      <td>unknown</td>\n",
       "      <td>0</td>\n",
       "    </tr>\n",
       "  </tbody>\n",
       "</table>\n",
       "</div>"
      ],
      "text/plain": [
       "                                  session_id   hit_date  hit_time  hit_number  \\\n",
       "0  5639623078712724064.1640254056.1640254056 2021-12-23  22:04:24          30   \n",
       "1  7750352294969115059.1640271109.1640271109 2021-12-23  21:55:31          41   \n",
       "2   885342191847998240.1640235807.1640235807 2021-12-23  05:10:52          49   \n",
       "3   142526202120934167.1640211014.1640211014 2021-12-23  19:31:32          46   \n",
       "4  3450086108837475701.1640265078.1640265078 2021-12-23  21:32:21          79   \n",
       "\n",
       "  hit_type hit_referer                                      hit_page_path  \\\n",
       "0    event     unknown  sberauto.com/cars?utm_source_initial=google&ut...   \n",
       "1    event     unknown  sberauto.com/cars/fiat?city=1&city=18&rental_c...   \n",
       "2    event     unknown  sberauto.com/cars/all/volkswagen/polo/e994838f...   \n",
       "3    event     unknown  sberauto.com/cars?utm_source_initial=yandex&ut...   \n",
       "4    event     unknown  sberauto.com/cars/all/mercedes-benz/cla-klasse...   \n",
       "\n",
       "  event_category event_action event_label  event_value  \n",
       "0           quiz    quiz_show     unknown            0  \n",
       "1           quiz    quiz_show     unknown            0  \n",
       "2           quiz    quiz_show     unknown            0  \n",
       "3           quiz    quiz_show     unknown            0  \n",
       "4           quiz    quiz_show     unknown            0  "
      ]
     },
     "execution_count": 278,
     "metadata": {},
     "output_type": "execute_result"
    }
   ],
   "source": [
    "df_hits_copy.head()"
   ]
  },
  {
   "cell_type": "code",
   "execution_count": 279,
   "id": "8b1a71a5-0e13-4bb0-a13d-0afdf2a019f9",
   "metadata": {},
   "outputs": [
    {
     "data": {
      "text/html": [
       "<div>\n",
       "<style scoped>\n",
       "    .dataframe tbody tr th:only-of-type {\n",
       "        vertical-align: middle;\n",
       "    }\n",
       "\n",
       "    .dataframe tbody tr th {\n",
       "        vertical-align: top;\n",
       "    }\n",
       "\n",
       "    .dataframe thead th {\n",
       "        text-align: right;\n",
       "    }\n",
       "</style>\n",
       "<table border=\"1\" class=\"dataframe\">\n",
       "  <thead>\n",
       "    <tr style=\"text-align: right;\">\n",
       "      <th></th>\n",
       "      <th>session_id</th>\n",
       "      <th>client_id</th>\n",
       "      <th>visit_date</th>\n",
       "      <th>visit_time</th>\n",
       "      <th>visit_number</th>\n",
       "      <th>utm_source</th>\n",
       "      <th>utm_medium</th>\n",
       "      <th>utm_campaign</th>\n",
       "      <th>utm_adcontent</th>\n",
       "      <th>utm_keyword</th>\n",
       "      <th>device_category</th>\n",
       "      <th>device_os</th>\n",
       "      <th>device_brand</th>\n",
       "      <th>device_model</th>\n",
       "      <th>device_screen_resolution</th>\n",
       "      <th>device_browser</th>\n",
       "      <th>geo_country</th>\n",
       "      <th>geo_city</th>\n",
       "    </tr>\n",
       "  </thead>\n",
       "  <tbody>\n",
       "    <tr>\n",
       "      <th>0</th>\n",
       "      <td>9055434745589932991.1637753792.1637753792</td>\n",
       "      <td>2108382700.1637753791</td>\n",
       "      <td>2021-11-24</td>\n",
       "      <td>14:36:32</td>\n",
       "      <td>1</td>\n",
       "      <td>ZpYIoDJMcFzVoPFsHGJL</td>\n",
       "      <td>banner</td>\n",
       "      <td>LEoPHuyFvzoNfnzGgfcd</td>\n",
       "      <td>vCIpmpaGBnIQhyYNkXqp</td>\n",
       "      <td>puhZPIYqKXeFPaUviSjo</td>\n",
       "      <td>mobile</td>\n",
       "      <td>Android</td>\n",
       "      <td>Huawei</td>\n",
       "      <td>unknown</td>\n",
       "      <td>360x720</td>\n",
       "      <td>Chrome</td>\n",
       "      <td>Russia</td>\n",
       "      <td>Zlatoust</td>\n",
       "    </tr>\n",
       "    <tr>\n",
       "      <th>1</th>\n",
       "      <td>905544597018549464.1636867290.1636867290</td>\n",
       "      <td>210838531.1636867288</td>\n",
       "      <td>2021-11-14</td>\n",
       "      <td>08:21:30</td>\n",
       "      <td>1</td>\n",
       "      <td>MvfHsxITijuriZxsqZqt</td>\n",
       "      <td>cpm</td>\n",
       "      <td>FTjNLDyTrXaWYgZymFkV</td>\n",
       "      <td>xhoenQgDQsgfEPYNPwKO</td>\n",
       "      <td>IGUCNvHlhfHpROGclCit</td>\n",
       "      <td>mobile</td>\n",
       "      <td>Android</td>\n",
       "      <td>Samsung</td>\n",
       "      <td>unknown</td>\n",
       "      <td>385x854</td>\n",
       "      <td>Samsung Internet</td>\n",
       "      <td>Russia</td>\n",
       "      <td>Moscow</td>\n",
       "    </tr>\n",
       "    <tr>\n",
       "      <th>2</th>\n",
       "      <td>9055446045651783499.1640648526.1640648526</td>\n",
       "      <td>2108385331.1640648523</td>\n",
       "      <td>2021-12-28</td>\n",
       "      <td>02:42:06</td>\n",
       "      <td>1</td>\n",
       "      <td>ZpYIoDJMcFzVoPFsHGJL</td>\n",
       "      <td>banner</td>\n",
       "      <td>LEoPHuyFvzoNfnzGgfcd</td>\n",
       "      <td>vCIpmpaGBnIQhyYNkXqp</td>\n",
       "      <td>puhZPIYqKXeFPaUviSjo</td>\n",
       "      <td>mobile</td>\n",
       "      <td>Android</td>\n",
       "      <td>Huawei</td>\n",
       "      <td>unknown</td>\n",
       "      <td>360x720</td>\n",
       "      <td>Chrome</td>\n",
       "      <td>Russia</td>\n",
       "      <td>Krasnoyarsk</td>\n",
       "    </tr>\n",
       "    <tr>\n",
       "      <th>3</th>\n",
       "      <td>9055447046360770272.1622255328.1622255328</td>\n",
       "      <td>2108385564.1622255328</td>\n",
       "      <td>2021-05-29</td>\n",
       "      <td>05:00:00</td>\n",
       "      <td>1</td>\n",
       "      <td>kjsLglQLzykiRbcDiGcD</td>\n",
       "      <td>cpc</td>\n",
       "      <td>unknown</td>\n",
       "      <td>NOBKLgtuvqYWkXQHeYWM</td>\n",
       "      <td>unknown</td>\n",
       "      <td>mobile</td>\n",
       "      <td>Android</td>\n",
       "      <td>Xiaomi</td>\n",
       "      <td>unknown</td>\n",
       "      <td>393x786</td>\n",
       "      <td>Chrome</td>\n",
       "      <td>Russia</td>\n",
       "      <td>Moscow</td>\n",
       "    </tr>\n",
       "    <tr>\n",
       "      <th>4</th>\n",
       "      <td>9055447046360770272.1622255345.1622255345</td>\n",
       "      <td>2108385564.1622255328</td>\n",
       "      <td>2021-05-29</td>\n",
       "      <td>05:00:00</td>\n",
       "      <td>2</td>\n",
       "      <td>kjsLglQLzykiRbcDiGcD</td>\n",
       "      <td>cpc</td>\n",
       "      <td>unknown</td>\n",
       "      <td>unknown</td>\n",
       "      <td>unknown</td>\n",
       "      <td>mobile</td>\n",
       "      <td>Android</td>\n",
       "      <td>Xiaomi</td>\n",
       "      <td>unknown</td>\n",
       "      <td>393x786</td>\n",
       "      <td>Chrome</td>\n",
       "      <td>Russia</td>\n",
       "      <td>Moscow</td>\n",
       "    </tr>\n",
       "  </tbody>\n",
       "</table>\n",
       "</div>"
      ],
      "text/plain": [
       "                                  session_id              client_id  \\\n",
       "0  9055434745589932991.1637753792.1637753792  2108382700.1637753791   \n",
       "1   905544597018549464.1636867290.1636867290   210838531.1636867288   \n",
       "2  9055446045651783499.1640648526.1640648526  2108385331.1640648523   \n",
       "3  9055447046360770272.1622255328.1622255328  2108385564.1622255328   \n",
       "4  9055447046360770272.1622255345.1622255345  2108385564.1622255328   \n",
       "\n",
       "   visit_date visit_time  visit_number            utm_source utm_medium  \\\n",
       "0  2021-11-24   14:36:32             1  ZpYIoDJMcFzVoPFsHGJL     banner   \n",
       "1  2021-11-14   08:21:30             1  MvfHsxITijuriZxsqZqt        cpm   \n",
       "2  2021-12-28   02:42:06             1  ZpYIoDJMcFzVoPFsHGJL     banner   \n",
       "3  2021-05-29   05:00:00             1  kjsLglQLzykiRbcDiGcD        cpc   \n",
       "4  2021-05-29   05:00:00             2  kjsLglQLzykiRbcDiGcD        cpc   \n",
       "\n",
       "           utm_campaign         utm_adcontent           utm_keyword  \\\n",
       "0  LEoPHuyFvzoNfnzGgfcd  vCIpmpaGBnIQhyYNkXqp  puhZPIYqKXeFPaUviSjo   \n",
       "1  FTjNLDyTrXaWYgZymFkV  xhoenQgDQsgfEPYNPwKO  IGUCNvHlhfHpROGclCit   \n",
       "2  LEoPHuyFvzoNfnzGgfcd  vCIpmpaGBnIQhyYNkXqp  puhZPIYqKXeFPaUviSjo   \n",
       "3               unknown  NOBKLgtuvqYWkXQHeYWM               unknown   \n",
       "4               unknown               unknown               unknown   \n",
       "\n",
       "  device_category device_os device_brand device_model  \\\n",
       "0          mobile   Android       Huawei      unknown   \n",
       "1          mobile   Android      Samsung      unknown   \n",
       "2          mobile   Android       Huawei      unknown   \n",
       "3          mobile   Android       Xiaomi      unknown   \n",
       "4          mobile   Android       Xiaomi      unknown   \n",
       "\n",
       "  device_screen_resolution    device_browser geo_country     geo_city  \n",
       "0                  360x720            Chrome      Russia     Zlatoust  \n",
       "1                  385x854  Samsung Internet      Russia       Moscow  \n",
       "2                  360x720            Chrome      Russia  Krasnoyarsk  \n",
       "3                  393x786            Chrome      Russia       Moscow  \n",
       "4                  393x786            Chrome      Russia       Moscow  "
      ]
     },
     "execution_count": 279,
     "metadata": {},
     "output_type": "execute_result"
    }
   ],
   "source": [
    "df_sessions_copy.head()"
   ]
  },
  {
   "cell_type": "markdown",
   "id": "fb3b9b76-7313-4e6b-b7b6-58a2250a1766",
   "metadata": {},
   "source": [
    "5) Визуализация данных"
   ]
  },
  {
   "cell_type": "code",
   "execution_count": 280,
   "id": "7664b39a-dc66-4357-9994-f06caadf41f1",
   "metadata": {},
   "outputs": [],
   "source": [
    "df_combined = pd.merge(df_hits_copy, df_sessions_copy, on='session_id', how='inner') #создаю единный датафрейм для легкой визуализации данных"
   ]
  },
  {
   "cell_type": "code",
   "execution_count": 281,
   "id": "916bb6af-3b81-4401-818b-88cb19f49a95",
   "metadata": {},
   "outputs": [
    {
     "data": {
      "text/plain": [
       "0           22:04:24\n",
       "1           21:55:31\n",
       "2           05:10:52\n",
       "3           19:31:32\n",
       "4           21:32:21\n",
       "              ...   \n",
       "15726424    00:00:00\n",
       "15726425    00:00:00\n",
       "15726426    00:00:00\n",
       "15726431    22:44:34\n",
       "15726432    22:53:31\n",
       "Name: hit_time, Length: 1732266, dtype: object"
      ]
     },
     "execution_count": 281,
     "metadata": {},
     "output_type": "execute_result"
    }
   ],
   "source": [
    "df_hits_copy['hit_time']"
   ]
  },
  {
   "cell_type": "code",
   "execution_count": 282,
   "id": "94454b8d-a804-4f52-b452-70054932d94c",
   "metadata": {},
   "outputs": [
    {
     "data": {
      "text/plain": [
       "0    22:04:24\n",
       "1    21:55:31\n",
       "2    05:10:52\n",
       "3    19:31:32\n",
       "4    21:32:21\n",
       "Name: hit_time, dtype: object"
      ]
     },
     "execution_count": 282,
     "metadata": {},
     "output_type": "execute_result"
    }
   ],
   "source": [
    "df_combined['hit_time'].head()"
   ]
  },
  {
   "cell_type": "code",
   "execution_count": 283,
   "id": "4a0a9ae7-e725-4e49-ada7-e6f87835f146",
   "metadata": {},
   "outputs": [],
   "source": [
    "df_combined['hit_time'] = pd.to_numeric(df_combined['hit_time'], errors='coerce')"
   ]
  },
  {
   "cell_type": "markdown",
   "id": "76f4bcf5-3192-4906-ac8d-16b22ebd3ddf",
   "metadata": {},
   "source": [
    "Распределение целевых и нецелевых событий"
   ]
  },
  {
   "cell_type": "code",
   "execution_count": 389,
   "id": "6addb0ba-7937-47f8-b46d-90b2ebedebb6",
   "metadata": {},
   "outputs": [
    {
     "data": {
      "image/png": "[encoded data removed]",
      "text/plain": [
       "<Figure size 800x500 with 1 Axes>"
      ]
     },
     "metadata": {},
     "output_type": "display_data"
    }
   ],
   "source": [
    "event_counts = df_hits_copy['event_value'].value_counts()\n",
    "\n",
    "plt.figure(figsize=(8, 5))\n",
    "plt.pie(\n",
    "    event_counts, \n",
    "    labels=[f\"{label} ({count})\" for label, count in zip(event_counts.index, event_counts)], \n",
    "    autopct='%1.2f%%', \n",
    "    colors=['salmon', 'lightgreen'], \n",
    "    startangle=140\n",
    ")\n",
    "plt.title('Распределение целевых и нецелевых событий')\n",
    "plt.show()\n"
   ]
  },
  {
   "cell_type": "markdown",
   "id": "823087e5-9b71-4dfe-9cb9-fb076a503e75",
   "metadata": {},
   "source": [
    "Количество целевых событий значительно меньше, чем нецелевых. Это может указывать на низкую конверсию пользователей в заданные целевые действия, что требует дополнительного анализа поведения аудитории и эффективности интерфейса."
   ]
  },
  {
   "cell_type": "markdown",
   "id": "9d348aa0-deed-4a27-a0b0-7eafaa24b38e",
   "metadata": {},
   "source": []
  },
  {
   "cell_type": "markdown",
   "id": "88873993-414f-48f4-b2ef-6645e65be93f",
   "metadata": {},
   "source": []
  },
  {
   "cell_type": "markdown",
   "id": "adf10694-d95d-4cb0-997b-c688adf19df5",
   "metadata": {},
   "source": [
    "Топ источников трафика и устройств"
   ]
  },
  {
   "cell_type": "code",
   "execution_count": 285,
   "id": "97b0ad1f-d5f7-48a2-a51c-418658a15482",
   "metadata": {},
   "outputs": [
    {
     "data": {
      "image/png": "[encoded data removed]",
      "text/plain": [
       "<Figure size 1200x600 with 1 Axes>"
      ]
     },
     "metadata": {},
     "output_type": "display_data"
    }
   ],
   "source": [
    "source_device_analysis = df_combined.groupby(['utm_source', 'device_category'])['event_value'].sum().unstack()\n",
    "\n",
    "top_10_sources = source_device_analysis.sum(axis=1).sort_values(ascending=False).head(10)\n",
    "\n",
    "top_10_source_device_analysis = source_device_analysis.loc[top_10_sources.index]\n",
    "\n",
    "top_10_source_device_analysis.plot(kind='bar', stacked=True, figsize=(12, 6), colormap='coolwarm')\n",
    "plt.title('Топ-10 источников трафика и устройства')\n",
    "plt.xlabel('Источник трафика')\n",
    "plt.ylabel('Количество целевых событий')\n",
    "plt.legend(title='device_category')\n",
    "plt.show()"
   ]
  },
  {
   "cell_type": "markdown",
   "id": "c87a223c-53e4-4a5b-853d-2d2d6debb133",
   "metadata": {},
   "source": [
    "Основной трафик идет через мобильные устройства.\n",
    "Значительная часть трафика идет через desktop.\n",
    "Tablet вносит минимальный вклад."
   ]
  },
  {
   "cell_type": "code",
   "execution_count": null,
   "id": "205d824e-d794-4fd8-8c6b-ea3aed9c8c9a",
   "metadata": {},
   "outputs": [],
   "source": []
  },
  {
   "cell_type": "code",
   "execution_count": null,
   "id": "3eea0416-656d-4a00-b591-36cddb98bb7b",
   "metadata": {},
   "outputs": [],
   "source": []
  },
  {
   "cell_type": "markdown",
   "id": "a046a8ae-f8ef-4648-973f-0f58096d78b8",
   "metadata": {},
   "source": [
    "Основные устройства с которых совершаются целевые события"
   ]
  },
  {
   "cell_type": "code",
   "execution_count": 379,
   "id": "c9273e32-e4f9-4012-b2f9-d1f2207564fc",
   "metadata": {},
   "outputs": [
    {
     "name": "stderr",
     "output_type": "stream",
     "text": [
      "C:\\Users\\temir\\AppData\\Local\\Temp\\ipykernel_14828\\3403202855.py:3: FutureWarning: \n",
      "\n",
      "Passing `palette` without assigning `hue` is deprecated and will be removed in v0.14.0. Assign the `y` variable to `hue` and set `legend=False` for the same effect.\n",
      "\n",
      "  sns.countplot(data=df_target, y='device_os', order=df_target['device_os'].value_counts().index, palette='viridis')\n"
     ]
    },
    {
     "data": {
      "image/png": "[encoded data removed]",
      "text/plain": [
       "<Figure size 1000x500 with 1 Axes>"
      ]
     },
     "metadata": {},
     "output_type": "display_data"
    }
   ],
   "source": [
    "df_target = df_combined[df_combined['event_value'] == 1]\n",
    "plt.figure(figsize=(10, 5))\n",
    "sns.countplot(data=df_target, y='device_os', order=df_target['device_os'].value_counts().index, palette='viridis')\n",
    "plt.title(\"Устройства, с которых совершаются целевые события\")\n",
    "plt.xlabel(\"Количество событий\")\n",
    "plt.ylabel(\"Операционная система\")\n",
    "plt.show()\n"
   ]
  },
  {
   "cell_type": "markdown",
   "id": "207e8bfa-58f1-44d0-b63d-d66c5a70c644",
   "metadata": {},
   "source": [
    "Android , Windows Phone и IOS - мобильные устройства, в основном с них совершаются целевые события.\n",
    "Windows, Linux, Macintosh - OS для ПК, часть целевых событий совершаются с них.\n",
    "other - неизвестные OS стоят на 3 месте по количеству целевых событий, возможно, включает редкие мобильные ОС, умные устройства или нестандартные платформы."
   ]
  },
  {
   "cell_type": "code",
   "execution_count": null,
   "id": "04a844e4-f5ac-4df3-b542-55b386cc222d",
   "metadata": {},
   "outputs": [],
   "source": []
  },
  {
   "cell_type": "code",
   "execution_count": null,
   "id": "f41a87a5-054c-4772-b730-21c7703113e7",
   "metadata": {},
   "outputs": [],
   "source": []
  },
  {
   "cell_type": "markdown",
   "id": "e8378e8b-8551-4eff-8a8d-d365341e73ae",
   "metadata": {},
   "source": [
    "Корреляция числовых признаков"
   ]
  },
  {
   "cell_type": "code",
   "execution_count": 380,
   "id": "e39d2e7c-fece-4b5a-94eb-d9a750f48afe",
   "metadata": {},
   "outputs": [
    {
     "data": {
      "image/png": "[encoded data removed]",
      "text/plain": [
       "<Figure size 1000x600 with 2 Axes>"
      ]
     },
     "metadata": {},
     "output_type": "display_data"
    }
   ],
   "source": [
    "plt.figure(figsize=(10, 6))\n",
    "corr_matrix = df_combined[['hit_number', 'event_value', 'visit_number']].corr()\n",
    "sns.heatmap(corr_matrix, annot=True, cmap='coolwarm', linewidths=0.5)\n",
    "plt.title(\"Корреляция признаков\")\n",
    "plt.show()"
   ]
  },
  {
   "cell_type": "markdown",
   "id": "5887722f-4323-4777-8b72-a3285ad6c79b",
   "metadata": {},
   "source": [
    "Корреляция признаков очень маленькая, зависимости нет"
   ]
  },
  {
   "cell_type": "code",
   "execution_count": null,
   "id": "89636640-005f-4300-b517-8d46cc9ceb36",
   "metadata": {},
   "outputs": [],
   "source": []
  },
  {
   "cell_type": "code",
   "execution_count": null,
   "id": "2cb9bf87-d884-40b7-a77d-5dc541938a61",
   "metadata": {},
   "outputs": [],
   "source": []
  },
  {
   "cell_type": "markdown",
   "id": "cb07fc55-c875-4115-bccd-a1cec9014684",
   "metadata": {},
   "source": [
    "Распределение событий по категориям"
   ]
  },
  {
   "cell_type": "code",
   "execution_count": 387,
   "id": "d5f6c2ab-3b1f-4622-91e3-ff11e1b1a107",
   "metadata": {},
   "outputs": [
    {
     "data": {
      "image/png": "[encoded data removed]",
      "text/plain": [
       "<Figure size 1200x600 with 1 Axes>"
      ]
     },
     "metadata": {},
     "output_type": "display_data"
    }
   ],
   "source": [
    "plt.figure(figsize=(12, 6))\n",
    "df_combined['event_category'].value_counts().head(10).plot(kind='bar', color='seagreen')\n",
    "plt.title(\"Распределение событий по категориям\")\n",
    "plt.xlabel(\"Категория события\")\n",
    "plt.ylabel(\"Количество событий\")\n",
    "plt.xticks(rotation=45)\n",
    "plt.show()"
   ]
  },
  {
   "cell_type": "markdown",
   "id": "1e23d182-111c-4bc5-9715-376b64ab4647",
   "metadata": {},
   "source": [
    "Заметно что ивент регистрации очень мал по сравнению с другими событиями"
   ]
  },
  {
   "cell_type": "code",
   "execution_count": null,
   "id": "5be6bdea-8d03-49d2-8eb5-babcfca3fd41",
   "metadata": {},
   "outputs": [],
   "source": []
  },
  {
   "cell_type": "code",
   "execution_count": null,
   "id": "c30493f7-c9b6-45ac-a5fc-0b4bb2b64a4c",
   "metadata": {},
   "outputs": [],
   "source": []
  },
  {
   "cell_type": "markdown",
   "id": "854f8509-2c99-4358-b5bd-c0834e63f2f3",
   "metadata": {},
   "source": [
    "Распределение устройств"
   ]
  },
  {
   "cell_type": "code",
   "execution_count": 382,
   "id": "55ca1b25-c44e-4ecc-bd71-237d8bdac56e",
   "metadata": {},
   "outputs": [
    {
     "name": "stderr",
     "output_type": "stream",
     "text": [
      "C:\\Users\\temir\\AppData\\Local\\Temp\\ipykernel_14828\\3473424516.py:2: FutureWarning: \n",
      "\n",
      "Passing `palette` without assigning `hue` is deprecated and will be removed in v0.14.0. Assign the `y` variable to `hue` and set `legend=False` for the same effect.\n",
      "\n",
      "  sns.countplot(data=df_combined, y='device_os', order=df_combined['device_os'].value_counts().index, palette='coolwarm')\n"
     ]
    },
    {
     "data": {
      "image/png": "[encoded data removed]",
      "text/plain": [
       "<Figure size 1000x500 with 1 Axes>"
      ]
     },
     "metadata": {},
     "output_type": "display_data"
    }
   ],
   "source": [
    "plt.figure(figsize=(10, 5))\n",
    "sns.countplot(data=df_combined, y='device_os', order=df_combined['device_os'].value_counts().index, palette='coolwarm')\n",
    "plt.title(\"Распределение пользователей по ОС устройств\")\n",
    "plt.xlabel(\"Количество событий\")\n",
    "plt.ylabel(\"Операционная система\")\n",
    "plt.show()"
   ]
  },
  {
   "cell_type": "markdown",
   "id": "78b6f6a9-90ba-4e07-9506-72bb4ad1ccdf",
   "metadata": {},
   "source": [
    "Совпадает с распределением устройств с которых совершаются целевые события"
   ]
  },
  {
   "cell_type": "code",
   "execution_count": null,
   "id": "3e993a1d-e39a-41d0-994b-c44c7c7569a8",
   "metadata": {},
   "outputs": [],
   "source": []
  },
  {
   "cell_type": "code",
   "execution_count": null,
   "id": "13fcff96-5021-4cba-988c-e5cd9aa31f7b",
   "metadata": {},
   "outputs": [],
   "source": []
  },
  {
   "cell_type": "markdown",
   "id": "193d9271-4eb9-4a99-9ba2-b83a78464125",
   "metadata": {},
   "source": [
    "6) Вывод"
   ]
  },
  {
   "cell_type": "markdown",
   "id": "ae05b5fd-46f5-41c5-b456-fc1c0445a5d1",
   "metadata": {},
   "source": [
    "Исследуя данные, можно заметить, что количество целевых событий значительно уступает количеству всех зафиксированных взаимодействий. Это может свидетельствовать о низкой конверсии пользователей, возможных проблемах с юзабилити сайта или неэффективности рекламных кампаний. Также не исключены технические ошибки при сборе данных. "
   ]
  }
 ],
 "metadata": {
  "kernelspec": {
   "display_name": "Python 3 (ipykernel)",
   "language": "python",
   "name": "python3"
  },
  "language_info": {
   "codemirror_mode": {
    "name": "ipython",
    "version": 3
   },
   "file_extension": ".py",
   "mimetype": "text/x-python",
   "name": "python",
   "nbconvert_exporter": "python",
   "pygments_lexer": "ipython3",
   "version": "3.12.7"
  }
 },
 "nbformat": 4,
 "nbformat_minor": 5
}
